{
 "cells": [
  {
   "cell_type": "markdown",
   "metadata": {},
   "source": [
    "### Summary\n",
    "\n",
    "<p>\n",
    "This project applies the KNearest Ne\"ttp://insideairbnb.comighbors algorithm to the AirBnB listings data set of the Washington, D.C. area provided by <a href=\"http://insideairbnb.com\">InsideAirBnB]</a>. The algorithm is implemented with both core Python creating new functions and also <a href=\"https://scikit-learn.org\">scikit-learn </a> functionality. The goal is to predict prices by a set of features.\n",
    "</p>\n",
    "<p>\n",
    "The data set is cleaned and prepared in this project. Some variables here used as features are:\n",
    "</p>\n",
    "\n",
    "<ul>\n",
    "<li>accommodates: the number of guests the rental can accommodate</li>\n",
    "<li>room_type: the type of living space (Private room, Shared room or Entire home/apt</li>\n",
    "<li>bedrooms: number of bedrooms included in the rental</li>\n",
    "<li>bathrooms: number of bathrooms included in the rental</li>\n",
    "<li>beds: number of beds included in the rental</li>\n",
    "<li>price: nightly price for the rental</li>\n",
    "<li>minimum_nights: minimum number of nights a guest can stay for the rental</li>\n",
    "<li>maximum_nights: maximum number of nights a guest can stay for the rental</li>\n",
    "<li>number_of_reviews: number of reviews that previous guests have left</li>\n",
    "</ul>\n"
   ]
  },
  {
   "cell_type": "markdown",
   "metadata": {},
   "source": [
    "###  Import basic packages"
   ]
  },
  {
   "cell_type": "code",
   "execution_count": 497,
   "metadata": {},
   "outputs": [],
   "source": [
    "import pandas as pd\n",
    "import numpy as np\n",
    "import seaborn as sns\n",
    "from scipy.stats import norm\n",
    "import matplotlib.pyplot as plt\n"
   ]
  },
  {
   "cell_type": "code",
   "execution_count": 498,
   "metadata": {},
   "outputs": [
    {
     "name": "stdout",
     "output_type": "stream",
     "text": [
      "(3723, 92)\n",
      "<class 'pandas.core.frame.DataFrame'>\n",
      "RangeIndex: 3723 entries, 0 to 3722\n",
      "Columns: 92 entries, id to reviews_per_month\n",
      "dtypes: float64(16), int64(15), object(61)\n",
      "memory usage: 2.6+ MB\n",
      "None\n"
     ]
    }
   ],
   "source": [
    "washington_air_listings_imported = pd.read_csv('airbnb_listings.csv')\n",
    "print(washington_air_listings_imported.shape)\n",
    "print(washington_air_listings_imported.info(verbose=False))"
   ]
  },
  {
   "cell_type": "code",
   "execution_count": 499,
   "metadata": {},
   "outputs": [
    {
     "data": {
      "text/plain": [
       "Index(['id', 'listing_url', 'scrape_id', 'last_scraped', 'name', 'summary',\n",
       "       'space', 'description', 'experiences_offered', 'neighborhood_overview',\n",
       "       'notes', 'transit', 'thumbnail_url', 'medium_url', 'picture_url',\n",
       "       'xl_picture_url', 'host_id', 'host_url', 'host_name', 'host_since',\n",
       "       'host_location', 'host_about', 'host_response_time',\n",
       "       'host_response_rate', 'host_acceptance_rate', 'host_is_superhost',\n",
       "       'host_thumbnail_url', 'host_picture_url', 'host_neighbourhood',\n",
       "       'host_listings_count', 'host_total_listings_count',\n",
       "       'host_verifications', 'host_has_profile_pic', 'host_identity_verified',\n",
       "       'street', 'neighbourhood', 'neighbourhood_cleansed',\n",
       "       'neighbourhood_group_cleansed', 'city', 'state', 'zipcode', 'market',\n",
       "       'smart_location', 'country_code', 'country', 'latitude', 'longitude',\n",
       "       'is_location_exact', 'property_type', 'room_type', 'accommodates',\n",
       "       'bathrooms', 'bedrooms', 'beds', 'bed_type', 'amenities', 'square_feet',\n",
       "       'price', 'weekly_price', 'monthly_price', 'security_deposit',\n",
       "       'cleaning_fee', 'guests_included', 'extra_people', 'minimum_nights',\n",
       "       'maximum_nights', 'calendar_updated', 'has_availability',\n",
       "       'availability_30', 'availability_60', 'availability_90',\n",
       "       'availability_365', 'calendar_last_scraped', 'number_of_reviews',\n",
       "       'first_review', 'last_review', 'review_scores_rating',\n",
       "       'review_scores_accuracy', 'review_scores_cleanliness',\n",
       "       'review_scores_checkin', 'review_scores_communication',\n",
       "       'review_scores_location', 'review_scores_value', 'requires_license',\n",
       "       'license', 'jurisdiction_names', 'instant_bookable',\n",
       "       'cancellation_policy', 'require_guest_profile_picture',\n",
       "       'require_guest_phone_verification', 'calculated_host_listings_count',\n",
       "       'reviews_per_month'],\n",
       "      dtype='object')"
      ]
     },
     "execution_count": 499,
     "metadata": {},
     "output_type": "execute_result"
    }
   ],
   "source": [
    "columns_list = washington_air_listings_imported.columns\n",
    "columns_list"
   ]
  },
  {
   "cell_type": "markdown",
   "metadata": {},
   "source": [
    "Reduce the number of variables and keeping only the necessary variables."
   ]
  },
  {
   "cell_type": "code",
   "execution_count": 500,
   "metadata": {},
   "outputs": [],
   "source": [
    "variables_used_in_analysis =   [\"host_response_rate\", \"host_acceptance_rate\", \n",
    "                                \"host_listings_count\"\n",
    "                                \"latitude\",\n",
    "                                \"longitude\",\n",
    "                                \"city\",\n",
    "                                \"zipcode\",\n",
    "                                \"state\",\n",
    "                                \"accommodates\",\n",
    "                                \"room_type\",\n",
    "                                \"bedrooms\",\n",
    "                                \"bathrooms\",\n",
    "                                \"beds\",\n",
    "                                \"price\",\n",
    "                                \"cleaning_fee\",\n",
    "                                \"security_deposit\",\n",
    "                                \"minimum_nights\",\n",
    "                                \"maximum_nights\",\n",
    "                                \"number_of_reviews\"]\n"
   ]
  },
  {
   "cell_type": "code",
   "execution_count": 501,
   "metadata": {},
   "outputs": [
    {
     "data": {
      "text/plain": [
       "(3723, 18)"
      ]
     },
     "execution_count": 501,
     "metadata": {},
     "output_type": "execute_result"
    }
   ],
   "source": [
    "washington_air_listings_reduced = washington_air_listings_imported.loc[:, variables_used_in_analysis]\n",
    "washington_air_listings_reduced.shape"
   ]
  },
  {
   "cell_type": "code",
   "execution_count": 502,
   "metadata": {},
   "outputs": [
    {
     "data": {
      "text/plain": [
       "host_response_rate              434\n",
       "host_acceptance_rate            614\n",
       "host_listings_countlatitude    3723\n",
       "longitude                         0\n",
       "city                              0\n",
       "zipcode                           9\n",
       "state                             0\n",
       "accommodates                      0\n",
       "room_type                         0\n",
       "bedrooms                         21\n",
       "bathrooms                        27\n",
       "beds                             11\n",
       "price                             0\n",
       "cleaning_fee                   1388\n",
       "security_deposit               2297\n",
       "minimum_nights                    0\n",
       "maximum_nights                    0\n",
       "number_of_reviews                 0\n",
       "dtype: int64"
      ]
     },
     "execution_count": 502,
     "metadata": {},
     "output_type": "execute_result"
    }
   ],
   "source": [
    "washington_air_listings_reduced.isnull().sum()"
   ]
  },
  {
   "cell_type": "markdown",
   "metadata": {},
   "source": [
    "Calculate the Euclidian distance between a given living space and the first accomodate observation in the data set."
   ]
  },
  {
   "cell_type": "code",
   "execution_count": 503,
   "metadata": {},
   "outputs": [],
   "source": [
    "washington_airbnb_1 = washington_air_listings_reduced.copy()"
   ]
  },
  {
   "cell_type": "code",
   "execution_count": 504,
   "metadata": {},
   "outputs": [
    {
     "name": "stdout",
     "output_type": "stream",
     "text": [
      "1\n",
      "0    4\n",
      "1    6\n",
      "2    1\n",
      "3    2\n",
      "Name: accommodates, dtype: int64\n"
     ]
    }
   ],
   "source": [
    "# my living space can accodomatge three guests\n",
    "my_guests_1 = 3\n",
    "first_distance_1 = np.abs(my_guests_1 - washington_airbnb_1.loc[0,'accommodates'])\n",
    "print(first_distance_1)\n",
    "# 3-4=-1\n",
    "print(washington_airbnb_1.loc[0:3,'accommodates'])"
   ]
  },
  {
   "cell_type": "markdown",
   "metadata": {},
   "source": [
    "If values are the same then the Euclidian distance is 0. The similarity between point A and B is then perfect\n",
    "with regard to the feature (accommodates)."
   ]
  },
  {
   "cell_type": "code",
   "execution_count": 505,
   "metadata": {},
   "outputs": [
    {
     "name": "stdout",
     "output_type": "stream",
     "text": [
      "0\n"
     ]
    }
   ],
   "source": [
    "my_guests_2 = 4\n",
    "first_distance_2 = np.abs(my_guests_2 - washington_airbnb_1.loc[0,'accommodates'])\n",
    "# 4-4=-0\n",
    "print(first_distance_2)"
   ]
  },
  {
   "cell_type": "code",
   "execution_count": 506,
   "metadata": {},
   "outputs": [
    {
     "data": {
      "text/plain": [
       "10       2\n",
       "11       4\n",
       "12       6\n",
       "8        7\n",
       "13       8\n",
       "9       12\n",
       "6       17\n",
       "7       22\n",
       "4       35\n",
       "5       73\n",
       "3      279\n",
       "0      461\n",
       "2      503\n",
       "1     2294\n",
       "Name: distance, dtype: int64"
      ]
     },
     "execution_count": 506,
     "metadata": {},
     "output_type": "execute_result"
    }
   ],
   "source": [
    "washington_airbnb_1['distance'] = washington_airbnb_1['accommodates'].apply(lambda x: np.abs(3-x))\n",
    "washington_airbnb_1['distance'].value_counts().sort_values(ascending=True)"
   ]
  },
  {
   "cell_type": "markdown",
   "metadata": {},
   "source": [
    "One is the most frequent distance with 2294 and 10 is the least frequent distance with 2. 461 locations offer\n",
    "space for 3 accomodates like in the given value."
   ]
  },
  {
   "cell_type": "markdown",
   "metadata": {},
   "source": [
    "### Cleaning data frame and randomize the index."
   ]
  },
  {
   "cell_type": "code",
   "execution_count": 507,
   "metadata": {},
   "outputs": [],
   "source": [
    "# randomize because otherwise the given order of the data frame would determine the first five values\n",
    "random_series_1 = np.arange(0, len(washington_airbnb_1))"
   ]
  },
  {
   "cell_type": "code",
   "execution_count": 508,
   "metadata": {},
   "outputs": [],
   "source": [
    "random_series_1_permutated = np.random.permutation(random_series_1 )\n"
   ]
  },
  {
   "cell_type": "code",
   "execution_count": 509,
   "metadata": {},
   "outputs": [
    {
     "data": {
      "text/html": [
       "<div>\n",
       "<style>\n",
       "    .dataframe thead tr:only-child th {\n",
       "        text-align: right;\n",
       "    }\n",
       "\n",
       "    .dataframe thead th {\n",
       "        text-align: left;\n",
       "    }\n",
       "\n",
       "    .dataframe tbody tr th {\n",
       "        vertical-align: top;\n",
       "    }\n",
       "</style>\n",
       "<table border=\"1\" class=\"dataframe\">\n",
       "  <thead>\n",
       "    <tr style=\"text-align: right;\">\n",
       "      <th></th>\n",
       "      <th>host_response_rate</th>\n",
       "      <th>host_acceptance_rate</th>\n",
       "      <th>host_listings_countlatitude</th>\n",
       "      <th>longitude</th>\n",
       "      <th>city</th>\n",
       "      <th>zipcode</th>\n",
       "      <th>state</th>\n",
       "      <th>accommodates</th>\n",
       "      <th>room_type</th>\n",
       "      <th>bedrooms</th>\n",
       "      <th>bathrooms</th>\n",
       "      <th>beds</th>\n",
       "      <th>price</th>\n",
       "      <th>cleaning_fee</th>\n",
       "      <th>security_deposit</th>\n",
       "      <th>minimum_nights</th>\n",
       "      <th>maximum_nights</th>\n",
       "      <th>number_of_reviews</th>\n",
       "      <th>distance</th>\n",
       "    </tr>\n",
       "  </thead>\n",
       "  <tbody>\n",
       "    <tr>\n",
       "      <th>2257</th>\n",
       "      <td>100%</td>\n",
       "      <td>100%</td>\n",
       "      <td>NaN</td>\n",
       "      <td>-76.998581</td>\n",
       "      <td>Washington</td>\n",
       "      <td>20002</td>\n",
       "      <td>DC</td>\n",
       "      <td>3</td>\n",
       "      <td>Entire home/apt</td>\n",
       "      <td>1.0</td>\n",
       "      <td>1.0</td>\n",
       "      <td>1.0</td>\n",
       "      <td>$129.00</td>\n",
       "      <td>NaN</td>\n",
       "      <td>NaN</td>\n",
       "      <td>2</td>\n",
       "      <td>1125</td>\n",
       "      <td>8</td>\n",
       "      <td>0</td>\n",
       "    </tr>\n",
       "    <tr>\n",
       "      <th>1208</th>\n",
       "      <td>100%</td>\n",
       "      <td>84%</td>\n",
       "      <td>NaN</td>\n",
       "      <td>-77.043029</td>\n",
       "      <td>Washington</td>\n",
       "      <td>20009</td>\n",
       "      <td>DC</td>\n",
       "      <td>3</td>\n",
       "      <td>Entire home/apt</td>\n",
       "      <td>0.0</td>\n",
       "      <td>1.0</td>\n",
       "      <td>2.0</td>\n",
       "      <td>$139.00</td>\n",
       "      <td>$75.00</td>\n",
       "      <td>$150.00</td>\n",
       "      <td>1</td>\n",
       "      <td>1125</td>\n",
       "      <td>1</td>\n",
       "      <td>0</td>\n",
       "    </tr>\n",
       "    <tr>\n",
       "      <th>224</th>\n",
       "      <td>100%</td>\n",
       "      <td>55%</td>\n",
       "      <td>NaN</td>\n",
       "      <td>-77.010526</td>\n",
       "      <td>Washington, D.C.</td>\n",
       "      <td>20001</td>\n",
       "      <td>DC</td>\n",
       "      <td>3</td>\n",
       "      <td>Entire home/apt</td>\n",
       "      <td>1.0</td>\n",
       "      <td>1.0</td>\n",
       "      <td>2.0</td>\n",
       "      <td>$99.00</td>\n",
       "      <td>NaN</td>\n",
       "      <td>$1,000.00</td>\n",
       "      <td>3</td>\n",
       "      <td>1125</td>\n",
       "      <td>4</td>\n",
       "      <td>0</td>\n",
       "    </tr>\n",
       "  </tbody>\n",
       "</table>\n",
       "</div>"
      ],
      "text/plain": [
       "     host_response_rate host_acceptance_rate  host_listings_countlatitude  \\\n",
       "2257               100%                 100%                          NaN   \n",
       "1208               100%                  84%                          NaN   \n",
       "224                100%                  55%                          NaN   \n",
       "\n",
       "      longitude              city zipcode state  accommodates  \\\n",
       "2257 -76.998581        Washington   20002    DC             3   \n",
       "1208 -77.043029        Washington   20009    DC             3   \n",
       "224  -77.010526  Washington, D.C.   20001    DC             3   \n",
       "\n",
       "            room_type  bedrooms  bathrooms  beds    price cleaning_fee  \\\n",
       "2257  Entire home/apt       1.0        1.0   1.0  $129.00          NaN   \n",
       "1208  Entire home/apt       0.0        1.0   2.0  $139.00       $75.00   \n",
       "224   Entire home/apt       1.0        1.0   2.0   $99.00          NaN   \n",
       "\n",
       "     security_deposit  minimum_nights  maximum_nights  number_of_reviews  \\\n",
       "2257              NaN               2            1125                  8   \n",
       "1208          $150.00               1            1125                  1   \n",
       "224         $1,000.00               3            1125                  4   \n",
       "\n",
       "      distance  \n",
       "2257         0  \n",
       "1208         0  \n",
       "224          0  "
      ]
     },
     "execution_count": 509,
     "metadata": {},
     "output_type": "execute_result"
    }
   ],
   "source": [
    "# washington_airbnb_1 = washington_airbnb_1.reindex(random_series_1_permutated )\n",
    "washington_airbnb_1 = washington_airbnb_1.loc[np.random.permutation(len(washington_airbnb_1))]\n",
    "washington_airbnb_1.sort_values('distance', inplace=True)\n",
    "washington_airbnb_1.head(3)"
   ]
  },
  {
   "cell_type": "code",
   "execution_count": 510,
   "metadata": {},
   "outputs": [
    {
     "data": {
      "text/html": [
       "<div>\n",
       "<style>\n",
       "    .dataframe thead tr:only-child th {\n",
       "        text-align: right;\n",
       "    }\n",
       "\n",
       "    .dataframe thead th {\n",
       "        text-align: left;\n",
       "    }\n",
       "\n",
       "    .dataframe tbody tr th {\n",
       "        vertical-align: top;\n",
       "    }\n",
       "</style>\n",
       "<table border=\"1\" class=\"dataframe\">\n",
       "  <thead>\n",
       "    <tr style=\"text-align: right;\">\n",
       "      <th></th>\n",
       "      <th>distance</th>\n",
       "      <th>accommodates</th>\n",
       "      <th>price</th>\n",
       "    </tr>\n",
       "  </thead>\n",
       "  <tbody>\n",
       "    <tr>\n",
       "      <th>2257</th>\n",
       "      <td>0</td>\n",
       "      <td>3</td>\n",
       "      <td>$129.00</td>\n",
       "    </tr>\n",
       "    <tr>\n",
       "      <th>1208</th>\n",
       "      <td>0</td>\n",
       "      <td>3</td>\n",
       "      <td>$139.00</td>\n",
       "    </tr>\n",
       "    <tr>\n",
       "      <th>224</th>\n",
       "      <td>0</td>\n",
       "      <td>3</td>\n",
       "      <td>$99.00</td>\n",
       "    </tr>\n",
       "    <tr>\n",
       "      <th>1729</th>\n",
       "      <td>0</td>\n",
       "      <td>3</td>\n",
       "      <td>$91.00</td>\n",
       "    </tr>\n",
       "    <tr>\n",
       "      <th>3506</th>\n",
       "      <td>0</td>\n",
       "      <td>3</td>\n",
       "      <td>$150.00</td>\n",
       "    </tr>\n",
       "    <tr>\n",
       "      <th>976</th>\n",
       "      <td>0</td>\n",
       "      <td>3</td>\n",
       "      <td>$95.00</td>\n",
       "    </tr>\n",
       "    <tr>\n",
       "      <th>3370</th>\n",
       "      <td>0</td>\n",
       "      <td>3</td>\n",
       "      <td>$139.00</td>\n",
       "    </tr>\n",
       "    <tr>\n",
       "      <th>1524</th>\n",
       "      <td>0</td>\n",
       "      <td>3</td>\n",
       "      <td>$60.00</td>\n",
       "    </tr>\n",
       "    <tr>\n",
       "      <th>394</th>\n",
       "      <td>0</td>\n",
       "      <td>3</td>\n",
       "      <td>$149.00</td>\n",
       "    </tr>\n",
       "    <tr>\n",
       "      <th>2830</th>\n",
       "      <td>0</td>\n",
       "      <td>3</td>\n",
       "      <td>$65.00</td>\n",
       "    </tr>\n",
       "  </tbody>\n",
       "</table>\n",
       "</div>"
      ],
      "text/plain": [
       "      distance  accommodates    price\n",
       "2257         0             3  $129.00\n",
       "1208         0             3  $139.00\n",
       "224          0             3   $99.00\n",
       "1729         0             3   $91.00\n",
       "3506         0             3  $150.00\n",
       "976          0             3   $95.00\n",
       "3370         0             3  $139.00\n",
       "1524         0             3   $60.00\n",
       "394          0             3  $149.00\n",
       "2830         0             3   $65.00"
      ]
     },
     "execution_count": 510,
     "metadata": {},
     "output_type": "execute_result"
    }
   ],
   "source": [
    "washington_airbnb_1[['distance', 'accommodates','price']].head(10)"
   ]
  },
  {
   "cell_type": "markdown",
   "metadata": {},
   "source": [
    "Price needs cleaning."
   ]
  },
  {
   "cell_type": "code",
   "execution_count": 511,
   "metadata": {},
   "outputs": [
    {
     "name": "stdout",
     "output_type": "stream",
     "text": [
      "<class 'str'>\n"
     ]
    }
   ],
   "source": [
    "print(type(washington_airbnb_1.loc[5,'price']))\n",
    "# print(len(washington_airbnb_1['price'].str.match(\"\\.{0,9}\")))"
   ]
  },
  {
   "cell_type": "code",
   "execution_count": 512,
   "metadata": {},
   "outputs": [],
   "source": [
    "washington_airbnb_1['price'] = washington_airbnb_1['price'].str.replace(\"$\",\"\").str.replace(\",\",\"\")"
   ]
  },
  {
   "cell_type": "code",
   "execution_count": 513,
   "metadata": {},
   "outputs": [],
   "source": [
    "washington_airbnb_1['price'] = washington_airbnb_1['price'].astype(float)"
   ]
  },
  {
   "cell_type": "code",
   "execution_count": 514,
   "metadata": {},
   "outputs": [
    {
     "data": {
      "text/html": [
       "<div>\n",
       "<style>\n",
       "    .dataframe thead tr:only-child th {\n",
       "        text-align: right;\n",
       "    }\n",
       "\n",
       "    .dataframe thead th {\n",
       "        text-align: left;\n",
       "    }\n",
       "\n",
       "    .dataframe tbody tr th {\n",
       "        vertical-align: top;\n",
       "    }\n",
       "</style>\n",
       "<table border=\"1\" class=\"dataframe\">\n",
       "  <thead>\n",
       "    <tr style=\"text-align: right;\">\n",
       "      <th></th>\n",
       "      <th>distance</th>\n",
       "      <th>accommodates</th>\n",
       "      <th>price</th>\n",
       "    </tr>\n",
       "  </thead>\n",
       "  <tbody>\n",
       "    <tr>\n",
       "      <th>2257</th>\n",
       "      <td>0</td>\n",
       "      <td>3</td>\n",
       "      <td>129.0</td>\n",
       "    </tr>\n",
       "    <tr>\n",
       "      <th>1208</th>\n",
       "      <td>0</td>\n",
       "      <td>3</td>\n",
       "      <td>139.0</td>\n",
       "    </tr>\n",
       "    <tr>\n",
       "      <th>224</th>\n",
       "      <td>0</td>\n",
       "      <td>3</td>\n",
       "      <td>99.0</td>\n",
       "    </tr>\n",
       "    <tr>\n",
       "      <th>1729</th>\n",
       "      <td>0</td>\n",
       "      <td>3</td>\n",
       "      <td>91.0</td>\n",
       "    </tr>\n",
       "    <tr>\n",
       "      <th>3506</th>\n",
       "      <td>0</td>\n",
       "      <td>3</td>\n",
       "      <td>150.0</td>\n",
       "    </tr>\n",
       "    <tr>\n",
       "      <th>976</th>\n",
       "      <td>0</td>\n",
       "      <td>3</td>\n",
       "      <td>95.0</td>\n",
       "    </tr>\n",
       "    <tr>\n",
       "      <th>3370</th>\n",
       "      <td>0</td>\n",
       "      <td>3</td>\n",
       "      <td>139.0</td>\n",
       "    </tr>\n",
       "    <tr>\n",
       "      <th>1524</th>\n",
       "      <td>0</td>\n",
       "      <td>3</td>\n",
       "      <td>60.0</td>\n",
       "    </tr>\n",
       "    <tr>\n",
       "      <th>394</th>\n",
       "      <td>0</td>\n",
       "      <td>3</td>\n",
       "      <td>149.0</td>\n",
       "    </tr>\n",
       "    <tr>\n",
       "      <th>2830</th>\n",
       "      <td>0</td>\n",
       "      <td>3</td>\n",
       "      <td>65.0</td>\n",
       "    </tr>\n",
       "  </tbody>\n",
       "</table>\n",
       "</div>"
      ],
      "text/plain": [
       "      distance  accommodates  price\n",
       "2257         0             3  129.0\n",
       "1208         0             3  139.0\n",
       "224          0             3   99.0\n",
       "1729         0             3   91.0\n",
       "3506         0             3  150.0\n",
       "976          0             3   95.0\n",
       "3370         0             3  139.0\n",
       "1524         0             3   60.0\n",
       "394          0             3  149.0\n",
       "2830         0             3   65.0"
      ]
     },
     "execution_count": 514,
     "metadata": {},
     "output_type": "execute_result"
    }
   ],
   "source": [
    "washington_airbnb_1[['distance', 'accommodates','price']].head(10)"
   ]
  },
  {
   "cell_type": "markdown",
   "metadata": {},
   "source": [
    "### As simple prediction model: the mean"
   ]
  },
  {
   "cell_type": "markdown",
   "metadata": {},
   "source": [
    "### Using the mean price for prediction of price with accomodates of 3."
   ]
  },
  {
   "cell_type": "code",
   "execution_count": 515,
   "metadata": {},
   "outputs": [
    {
     "name": "stdout",
     "output_type": "stream",
     "text": [
      "146.17\n"
     ]
    }
   ],
   "source": [
    "# The average calculated not only over the first five neighbours does not change.\n",
    "\n",
    "price_mean_total = round(washington_airbnb_1.loc[washington_airbnb_1['accommodates']==3,'price'].mean(),2)\n",
    "print(price_mean_total)"
   ]
  },
  {
   "cell_type": "code",
   "execution_count": 516,
   "metadata": {},
   "outputs": [
    {
     "name": "stdout",
     "output_type": "stream",
     "text": [
      "146.17\n"
     ]
    }
   ],
   "source": [
    "price_mean_total_0 = round(washington_airbnb_1.loc[washington_airbnb_1['distance']==0,'price'].mean(),2)\n",
    "print(price_mean_total_0)"
   ]
  },
  {
   "cell_type": "code",
   "execution_count": 517,
   "metadata": {},
   "outputs": [
    {
     "name": "stdout",
     "output_type": "stream",
     "text": [
      "nan\n"
     ]
    }
   ],
   "source": [
    "# selecting 5 nearest neighbours. Depending on permutation on the index the price will change.\n",
    "price_mean_five_neighbours = round(washington_airbnb_1.loc[0:5,'price'].mean(),2)\n",
    "print(price_mean_five_neighbours )"
   ]
  },
  {
   "cell_type": "markdown",
   "metadata": {},
   "source": [
    "### Using the mean price for prediction of price with accomodates of X\n"
   ]
  },
  {
   "cell_type": "code",
   "execution_count": 518,
   "metadata": {},
   "outputs": [],
   "source": [
    "washington_airbnb_2 = washington_airbnb_1.drop('distance', axis=1)\n",
    "# washington_airbnb_2.columns"
   ]
  },
  {
   "cell_type": "code",
   "execution_count": 519,
   "metadata": {},
   "outputs": [],
   "source": [
    "# prediction based on 5 nearest neighbours\n",
    "\n",
    "def predict_mean_price(number_of_accommodations):\n",
    "    # make a new data frame avoiding reference conflicts\n",
    "    new_df = washington_airbnb_2.copy()\n",
    "    new_df['distance']=new_df['accommodates'].apply(lambda x: np.abs(x-number_of_accommodations))\n",
    "    new_df=new_df.sort_values('distance')\n",
    "    price_first_five_neighbours = new_df.iloc[0:5]['price']\n",
    "    mean_price_first_five_neighbours = price_first_five_neighbours.mean()\n",
    "    return (mean_price_first_five_neighbours)"
   ]
  },
  {
   "cell_type": "code",
   "execution_count": 520,
   "metadata": {},
   "outputs": [
    {
     "name": "stdout",
     "output_type": "stream",
     "text": [
      "83.2\n",
      "115.6\n",
      "183.4\n",
      "138.8\n",
      "228.2\n"
     ]
    }
   ],
   "source": [
    "accommodations_1 = predict_mean_price(1)\n",
    "print(accommodations_1)\n",
    "accommodations_2 = predict_mean_price(2)\n",
    "print(accommodations_2)\n",
    "accommodations_3 = predict_mean_price(3)\n",
    "print(accommodations_3)\n",
    "accommodations_4 = predict_mean_price(4)\n",
    "print(accommodations_4)\n",
    "accommodations_5 = predict_mean_price(5)\n",
    "print(accommodations_5)"
   ]
  },
  {
   "cell_type": "code",
   "execution_count": 521,
   "metadata": {},
   "outputs": [
    {
     "name": "stdout",
     "output_type": "stream",
     "text": [
      "80.06\n",
      "159.82\n",
      "223.8\n",
      "387.05\n"
     ]
    }
   ],
   "source": [
    "### The average calculated not only over the first five neighbours does not change.\n",
    "\n",
    "def predict_mean_price_total(number_of_accommodations):\n",
    "    # make a new data frame avoiding reference conflicts\n",
    "    new_df = washington_airbnb_2.copy()\n",
    "    new_df['distance']=new_df['accommodates'].apply(lambda x: np.abs(x-number_of_accommodations))\n",
    "    new_df=new_df.sort_values('distance')\n",
    "    \n",
    "    mean_price_first_five_neighbours = round(new_df.loc[new_df['accommodates']==\n",
    "                                                        number_of_accommodations,'price'].mean(), 2)\n",
    "    return (mean_price_first_five_neighbours)\n",
    "\n",
    "print(predict_mean_price_total(1))\n",
    "print(predict_mean_price_total(4))\n",
    "print(predict_mean_price_total(5))\n",
    "print(predict_mean_price_total(10))"
   ]
  },
  {
   "cell_type": "markdown",
   "metadata": {},
   "source": [
    "## Assessment Model Performance"
   ]
  },
  {
   "cell_type": "code",
   "execution_count": 522,
   "metadata": {},
   "outputs": [
    {
     "name": "stdout",
     "output_type": "stream",
     "text": [
      "(2792, 18)\n",
      "(931, 18)\n"
     ]
    }
   ],
   "source": [
    "\n",
    "washington_airbnb_3 = washington_airbnb_2.copy()\n",
    "train_set_1 = washington_airbnb_3.sample(frac=0.75, random_state=0)\n",
    "test_set_1 = washington_airbnb_3.drop(train_set_1.index, axis='index')\n",
    "print(train_set_1.shape)\n",
    "print(test_set_1.shape)\n"
   ]
  },
  {
   "cell_type": "code",
   "execution_count": 523,
   "metadata": {},
   "outputs": [],
   "source": [
    "train_set_2 = train_set_1.copy()\n",
    "test_set_2 = test_set_1.copy()\n",
    "\n",
    "train_set_3 = train_set_1.copy()\n",
    "test_set_3 = test_set_1.copy()\n",
    "\n",
    "train_set_4 = train_set_1.copy()\n",
    "test_set_4 = test_set_1.copy()"
   ]
  },
  {
   "cell_type": "code",
   "execution_count": 524,
   "metadata": {},
   "outputs": [],
   "source": [
    "# Modifying the function by creating new arguments\n",
    "def predict_mean_price( number, df, variable):\n",
    "    # make a new data frame avoiding reference conflicts\n",
    "    new_df = df.copy()\n",
    "    new_df['distance']=new_df[variable].apply(lambda x: np.abs(x-number))\n",
    "    new_df=new_df.sort_values('distance')\n",
    "    price_first_five_neighbours = new_df.iloc[0:5]['price']\n",
    "    mean_price_first_five_neighbours = price_first_five_neighbours.mean()\n",
    "    return (mean_price_first_five_neighbours)"
   ]
  },
  {
   "cell_type": "markdown",
   "metadata": {},
   "source": [
    "Predicting mean price for every number of accommodates."
   ]
  },
  {
   "cell_type": "code",
   "execution_count": 525,
   "metadata": {},
   "outputs": [],
   "source": [
    "test_set_2['predicted_price'] =  test_set_2['accommodates'].apply(func=predict_mean_price, \n",
    "                                                                  args=(train_set_2,'accommodates'))"
   ]
  },
  {
   "cell_type": "code",
   "execution_count": 526,
   "metadata": {},
   "outputs": [
    {
     "data": {
      "text/html": [
       "<div>\n",
       "<style>\n",
       "    .dataframe thead tr:only-child th {\n",
       "        text-align: right;\n",
       "    }\n",
       "\n",
       "    .dataframe thead th {\n",
       "        text-align: left;\n",
       "    }\n",
       "\n",
       "    .dataframe tbody tr th {\n",
       "        vertical-align: top;\n",
       "    }\n",
       "</style>\n",
       "<table border=\"1\" class=\"dataframe\">\n",
       "  <thead>\n",
       "    <tr style=\"text-align: right;\">\n",
       "      <th></th>\n",
       "      <th>accommodates</th>\n",
       "      <th>predicted_price</th>\n",
       "    </tr>\n",
       "  </thead>\n",
       "  <tbody>\n",
       "    <tr>\n",
       "      <th>2257</th>\n",
       "      <td>3</td>\n",
       "      <td>104.6</td>\n",
       "    </tr>\n",
       "    <tr>\n",
       "      <th>1729</th>\n",
       "      <td>3</td>\n",
       "      <td>104.6</td>\n",
       "    </tr>\n",
       "    <tr>\n",
       "      <th>1524</th>\n",
       "      <td>3</td>\n",
       "      <td>104.6</td>\n",
       "    </tr>\n",
       "    <tr>\n",
       "      <th>1074</th>\n",
       "      <td>3</td>\n",
       "      <td>104.6</td>\n",
       "    </tr>\n",
       "    <tr>\n",
       "      <th>670</th>\n",
       "      <td>3</td>\n",
       "      <td>104.6</td>\n",
       "    </tr>\n",
       "  </tbody>\n",
       "</table>\n",
       "</div>"
      ],
      "text/plain": [
       "      accommodates  predicted_price\n",
       "2257             3            104.6\n",
       "1729             3            104.6\n",
       "1524             3            104.6\n",
       "1074             3            104.6\n",
       "670              3            104.6"
      ]
     },
     "execution_count": 526,
     "metadata": {},
     "output_type": "execute_result"
    }
   ],
   "source": [
    "test_set_2[['accommodates', 'predicted_price']].head()"
   ]
  },
  {
   "cell_type": "code",
   "execution_count": 527,
   "metadata": {},
   "outputs": [
    {
     "data": {
      "text/html": [
       "<div>\n",
       "<style>\n",
       "    .dataframe thead tr:only-child th {\n",
       "        text-align: right;\n",
       "    }\n",
       "\n",
       "    .dataframe thead th {\n",
       "        text-align: left;\n",
       "    }\n",
       "\n",
       "    .dataframe tbody tr th {\n",
       "        vertical-align: top;\n",
       "    }\n",
       "</style>\n",
       "<table border=\"1\" class=\"dataframe\">\n",
       "  <thead>\n",
       "    <tr style=\"text-align: right;\">\n",
       "      <th></th>\n",
       "      <th>accommodates</th>\n",
       "      <th>predicted_price</th>\n",
       "    </tr>\n",
       "  </thead>\n",
       "  <tbody>\n",
       "    <tr>\n",
       "      <th>3575</th>\n",
       "      <td>11</td>\n",
       "      <td>812.8</td>\n",
       "    </tr>\n",
       "    <tr>\n",
       "      <th>1624</th>\n",
       "      <td>11</td>\n",
       "      <td>812.8</td>\n",
       "    </tr>\n",
       "    <tr>\n",
       "      <th>3305</th>\n",
       "      <td>12</td>\n",
       "      <td>254.4</td>\n",
       "    </tr>\n",
       "    <tr>\n",
       "      <th>1656</th>\n",
       "      <td>12</td>\n",
       "      <td>254.4</td>\n",
       "    </tr>\n",
       "    <tr>\n",
       "      <th>808</th>\n",
       "      <td>12</td>\n",
       "      <td>254.4</td>\n",
       "    </tr>\n",
       "    <tr>\n",
       "      <th>1875</th>\n",
       "      <td>12</td>\n",
       "      <td>254.4</td>\n",
       "    </tr>\n",
       "    <tr>\n",
       "      <th>1658</th>\n",
       "      <td>14</td>\n",
       "      <td>499.4</td>\n",
       "    </tr>\n",
       "    <tr>\n",
       "      <th>1402</th>\n",
       "      <td>16</td>\n",
       "      <td>613.8</td>\n",
       "    </tr>\n",
       "    <tr>\n",
       "      <th>1596</th>\n",
       "      <td>16</td>\n",
       "      <td>613.8</td>\n",
       "    </tr>\n",
       "    <tr>\n",
       "      <th>763</th>\n",
       "      <td>16</td>\n",
       "      <td>613.8</td>\n",
       "    </tr>\n",
       "  </tbody>\n",
       "</table>\n",
       "</div>"
      ],
      "text/plain": [
       "      accommodates  predicted_price\n",
       "3575            11            812.8\n",
       "1624            11            812.8\n",
       "3305            12            254.4\n",
       "1656            12            254.4\n",
       "808             12            254.4\n",
       "1875            12            254.4\n",
       "1658            14            499.4\n",
       "1402            16            613.8\n",
       "1596            16            613.8\n",
       "763             16            613.8"
      ]
     },
     "execution_count": 527,
     "metadata": {},
     "output_type": "execute_result"
    }
   ],
   "source": [
    "test_set_2[['accommodates', 'predicted_price']].tail(10)"
   ]
  },
  {
   "cell_type": "markdown",
   "metadata": {},
   "source": [
    "#### Evaluating the predictions with the [mean absolute error (MAE)](https://en.wikipedia.org/wiki/Mean_absolute_error)"
   ]
  },
  {
   "cell_type": "code",
   "execution_count": 528,
   "metadata": {},
   "outputs": [
    {
     "data": {
      "text/plain": [
       "2257    24.4\n",
       "1729    13.6\n",
       "1524    44.6\n",
       "1074    20.4\n",
       "670     16.4\n",
       "Name: error, dtype: float64"
      ]
     },
     "execution_count": 528,
     "metadata": {},
     "output_type": "execute_result"
    }
   ],
   "source": [
    "# based on accommodations\n",
    "test_set_2['error'] = np.absolute(test_set_2['predicted_price'] - test_set_2['price'])\n",
    "test_set_2['error'][0:5]"
   ]
  },
  {
   "cell_type": "code",
   "execution_count": 529,
   "metadata": {},
   "outputs": [
    {
     "data": {
      "text/plain": [
       "55.01"
      ]
     },
     "execution_count": 529,
     "metadata": {},
     "output_type": "execute_result"
    }
   ],
   "source": [
    "mae_1 = round(test_set_2['error'].mean(), 2)\n",
    "mae_1"
   ]
  },
  {
   "cell_type": "markdown",
   "metadata": {},
   "source": [
    "On average the predictions deviate with $ 61.85 from the given price."
   ]
  },
  {
   "cell_type": "code",
   "execution_count": 530,
   "metadata": {},
   "outputs": [
    {
     "data": {
      "text/plain": [
       "2257     595.36\n",
       "1729     184.96\n",
       "1524    1989.16\n",
       "1074     416.16\n",
       "670      268.96\n",
       "Name: squared_error, dtype: float64"
      ]
     },
     "execution_count": 530,
     "metadata": {},
     "output_type": "execute_result"
    }
   ],
   "source": [
    "test_set_2['squared_error'] = (test_set_2['predicted_price'] - test_set_2['price'])**2\n",
    "test_set_2['squared_error'][0:5]"
   ]
  },
  {
   "cell_type": "code",
   "execution_count": 531,
   "metadata": {},
   "outputs": [
    {
     "data": {
      "text/plain": [
       "15029.1979"
      ]
     },
     "execution_count": 531,
     "metadata": {},
     "output_type": "execute_result"
    }
   ],
   "source": [
    "mse_1 = round(test_set_2['squared_error'].mean(),4)\n",
    "mse_1"
   ]
  },
  {
   "cell_type": "code",
   "execution_count": 532,
   "metadata": {},
   "outputs": [
    {
     "name": "stdout",
     "output_type": "stream",
     "text": [
      "122.59\n"
     ]
    }
   ],
   "source": [
    "rmse_1 = np.sqrt(mse_1)\n",
    "print(round(rmse_1,2))"
   ]
  },
  {
   "cell_type": "markdown",
   "metadata": {},
   "source": [
    "The rmse brings back the unit of the raw data. In this case 185.21 in Dollar."
   ]
  },
  {
   "cell_type": "markdown",
   "metadata": {},
   "source": [
    "The mean square error makes the size of the error more visibile, but it is not very instructive as long\n",
    "as it not compared with the error of other models. It is more a between evalution metric than a within.\n",
    "Another model is created now based on the bathroom variable."
   ]
  },
  {
   "cell_type": "code",
   "execution_count": 533,
   "metadata": {},
   "outputs": [
    {
     "name": "stdout",
     "output_type": "stream",
     "text": [
      "0\n"
     ]
    }
   ],
   "source": [
    "train_set_3 = train_set_3.dropna(axis=0, subset=['bathrooms'])\n",
    "print(train_set_3['bathrooms'].isnull().sum())\n"
   ]
  },
  {
   "cell_type": "code",
   "execution_count": 534,
   "metadata": {},
   "outputs": [
    {
     "name": "stdout",
     "output_type": "stream",
     "text": [
      "<class 'pandas.core.frame.DataFrame'>\n",
      "Int64Index: 2773 entries, 3086 to 1099\n",
      "Data columns (total 2 columns):\n",
      "bathrooms    2773 non-null float64\n",
      "price        2773 non-null float64\n",
      "dtypes: float64(2)\n",
      "memory usage: 65.0 KB\n"
     ]
    }
   ],
   "source": [
    "train_set_45654 = train_set_3 [['bathrooms', 'price']]\n",
    "train_set_45654.info()"
   ]
  },
  {
   "cell_type": "code",
   "execution_count": 535,
   "metadata": {},
   "outputs": [],
   "source": [
    "test_set_3['predicted_price'] =  test_set_3['bathrooms'].apply(func=predict_mean_price, \n",
    "                                                               args=(train_set_3,'bathrooms'))"
   ]
  },
  {
   "cell_type": "code",
   "execution_count": 536,
   "metadata": {},
   "outputs": [
    {
     "data": {
      "text/html": [
       "<div>\n",
       "<style>\n",
       "    .dataframe thead tr:only-child th {\n",
       "        text-align: right;\n",
       "    }\n",
       "\n",
       "    .dataframe thead th {\n",
       "        text-align: left;\n",
       "    }\n",
       "\n",
       "    .dataframe tbody tr th {\n",
       "        vertical-align: top;\n",
       "    }\n",
       "</style>\n",
       "<table border=\"1\" class=\"dataframe\">\n",
       "  <thead>\n",
       "    <tr style=\"text-align: right;\">\n",
       "      <th></th>\n",
       "      <th>bathrooms</th>\n",
       "      <th>predicted_price</th>\n",
       "    </tr>\n",
       "  </thead>\n",
       "  <tbody>\n",
       "    <tr>\n",
       "      <th>2257</th>\n",
       "      <td>1.0</td>\n",
       "      <td>121.6</td>\n",
       "    </tr>\n",
       "    <tr>\n",
       "      <th>1729</th>\n",
       "      <td>1.0</td>\n",
       "      <td>121.6</td>\n",
       "    </tr>\n",
       "    <tr>\n",
       "      <th>1524</th>\n",
       "      <td>1.0</td>\n",
       "      <td>121.6</td>\n",
       "    </tr>\n",
       "    <tr>\n",
       "      <th>1074</th>\n",
       "      <td>1.0</td>\n",
       "      <td>121.6</td>\n",
       "    </tr>\n",
       "    <tr>\n",
       "      <th>670</th>\n",
       "      <td>1.0</td>\n",
       "      <td>121.6</td>\n",
       "    </tr>\n",
       "  </tbody>\n",
       "</table>\n",
       "</div>"
      ],
      "text/plain": [
       "      bathrooms  predicted_price\n",
       "2257        1.0            121.6\n",
       "1729        1.0            121.6\n",
       "1524        1.0            121.6\n",
       "1074        1.0            121.6\n",
       "670         1.0            121.6"
      ]
     },
     "execution_count": 536,
     "metadata": {},
     "output_type": "execute_result"
    }
   ],
   "source": [
    "test_set_3[['bathrooms', 'predicted_price']].head()"
   ]
  },
  {
   "cell_type": "code",
   "execution_count": 537,
   "metadata": {},
   "outputs": [
    {
     "data": {
      "text/plain": [
       "2257     7.4\n",
       "1729    30.6\n",
       "1524    61.6\n",
       "1074     3.4\n",
       "670      0.6\n",
       "Name: error, dtype: float64"
      ]
     },
     "execution_count": 537,
     "metadata": {},
     "output_type": "execute_result"
    }
   ],
   "source": [
    "test_set_3['error'] = np.absolute(test_set_3['predicted_price'] - test_set_3['price'])\n",
    "test_set_3['error'][0:5]"
   ]
  },
  {
   "cell_type": "code",
   "execution_count": 538,
   "metadata": {},
   "outputs": [
    {
     "data": {
      "text/plain": [
       "58.72"
      ]
     },
     "execution_count": 538,
     "metadata": {},
     "output_type": "execute_result"
    }
   ],
   "source": [
    "mae_2 = round(test_set_3['error'].mean(), 2)\n",
    "mae_2"
   ]
  },
  {
   "cell_type": "code",
   "execution_count": 539,
   "metadata": {},
   "outputs": [
    {
     "data": {
      "text/plain": [
       "2257      54.76\n",
       "1729     936.36\n",
       "1524    3794.56\n",
       "1074      11.56\n",
       "670        0.36\n",
       "Name: squared_error, dtype: float64"
      ]
     },
     "execution_count": 539,
     "metadata": {},
     "output_type": "execute_result"
    }
   ],
   "source": [
    "test_set_3['squared_error'] = (test_set_3['predicted_price'] - test_set_3['price'])**2\n",
    "test_set_3['squared_error'][0:5]"
   ]
  },
  {
   "cell_type": "code",
   "execution_count": 540,
   "metadata": {},
   "outputs": [
    {
     "data": {
      "text/plain": [
       "13556.0934"
      ]
     },
     "execution_count": 540,
     "metadata": {},
     "output_type": "execute_result"
    }
   ],
   "source": [
    "mse_2 = round(test_set_3['squared_error'].mean(),4)\n",
    "mse_2"
   ]
  },
  {
   "cell_type": "code",
   "execution_count": 541,
   "metadata": {},
   "outputs": [
    {
     "name": "stdout",
     "output_type": "stream",
     "text": [
      "116.43\n",
      "<class 'numpy.float64'>\n"
     ]
    }
   ],
   "source": [
    "rmse_2 = np.sqrt(mse_2)\n",
    "print(round(rmse_2, 2))\n",
    "print(type(rmse_2))"
   ]
  },
  {
   "cell_type": "markdown",
   "metadata": {},
   "source": [
    "<p>\n",
    "The rmse brings back the unit of the raw data. In this case 105.89 in Dollar. This means: on average \n",
    "the predictions divert from the given prices by 105.89 Dollars.\n",
    "</p>\n",
    "\n",
    "<p>\n",
    "Comparing the bathroom-rmse Dollar 105.89 and the accommodates rmse Dollar 185.21 of the bathroom model makes better\n",
    "predictions.\n",
    "</p>\n",
    "<p>\n",
    "But: Is this a satisfactory prediction? Or should the predictions made better?\n",
    "</p>"
   ]
  },
  {
   "cell_type": "code",
   "execution_count": 542,
   "metadata": {},
   "outputs": [
    {
     "name": "stdout",
     "output_type": "stream",
     "text": [
      "2000.0\n",
      "23.0\n",
      "1977.0\n"
     ]
    }
   ],
   "source": [
    "max_2 = test_set_1['price'].max()\n",
    "print(test_set_1['price'].max())\n",
    "min_2 = test_set_1['price'].min()\n",
    "print(test_set_1['price'].min())\n",
    "range_2 = max_2 - min_2\n",
    "print(range_2)"
   ]
  },
  {
   "cell_type": "code",
   "execution_count": 543,
   "metadata": {},
   "outputs": [
    {
     "name": "stderr",
     "output_type": "stream",
     "text": [
      "C:\\Users\\gamarandor\\Anaconda3\\lib\\site-packages\\matplotlib\\axes\\_axes.py:6521: MatplotlibDeprecationWarning: \n",
      "The 'normed' kwarg was deprecated in Matplotlib 2.1 and will be removed in 3.1. Use 'density' instead.\n",
      "  alternative=\"'density'\", removal=\"3.1\")\n"
     ]
    },
    {
     "data": {
      "image/png": "[encoded data removed]",
      "text/plain": [
       "<Figure size 576x396 with 1 Axes>"
      ]
     },
     "metadata": {},
     "output_type": "display_data"
    }
   ],
   "source": [
    "\n",
    "sns.set(style=\"whitegrid\")\n",
    "ax = sns.distplot(test_set_1['price'],fit=norm)\n"
   ]
  },
  {
   "cell_type": "code",
   "execution_count": 544,
   "metadata": {},
   "outputs": [
    {
     "data": {
      "image/png": "[encoded data removed]",
      "text/plain": [
       "<Figure size 576x396 with 1 Axes>"
      ]
     },
     "metadata": {},
     "output_type": "display_data"
    }
   ],
   "source": [
    "ax=sns.boxplot(test_set_1['price'])"
   ]
  },
  {
   "cell_type": "markdown",
   "metadata": {},
   "source": [
    "The prices from 250 to 2000 are outliers. Besides this the values are concentrated on the left side\n",
    "from ca. 10 to ca. 250. A prediction error of  105.89 is not very good in this range.\n",
    "The prediction error (RMSE) should therefore be decreased with better prediction techniques."
   ]
  },
  {
   "cell_type": "markdown",
   "metadata": {},
   "source": [
    "### Improving predictions\n",
    "Options are increasing number of features used for predictions or increasing number of neighbours. <br>\n",
    "(Or using other models / algorithms)"
   ]
  },
  {
   "cell_type": "code",
   "execution_count": 545,
   "metadata": {},
   "outputs": [],
   "source": [
    "washington_airbnb_3=washington_airbnb_2.copy()"
   ]
  },
  {
   "cell_type": "code",
   "execution_count": 546,
   "metadata": {},
   "outputs": [
    {
     "name": "stdout",
     "output_type": "stream",
     "text": [
      "<class 'pandas.core.frame.DataFrame'>\n",
      "Int64Index: 3723 entries, 2257 to 1224\n",
      "Data columns (total 18 columns):\n",
      "host_response_rate             3289 non-null object\n",
      "host_acceptance_rate           3109 non-null object\n",
      "host_listings_countlatitude    0 non-null float64\n",
      "longitude                      3723 non-null float64\n",
      "city                           3723 non-null object\n",
      "zipcode                        3714 non-null object\n",
      "state                          3723 non-null object\n",
      "accommodates                   3723 non-null int64\n",
      "room_type                      3723 non-null object\n",
      "bedrooms                       3702 non-null float64\n",
      "bathrooms                      3696 non-null float64\n",
      "beds                           3712 non-null float64\n",
      "price                          3723 non-null float64\n",
      "cleaning_fee                   2335 non-null object\n",
      "security_deposit               1426 non-null object\n",
      "minimum_nights                 3723 non-null int64\n",
      "maximum_nights                 3723 non-null int64\n",
      "number_of_reviews              3723 non-null int64\n",
      "dtypes: float64(6), int64(4), object(8)\n",
      "memory usage: 552.6+ KB\n"
     ]
    }
   ],
   "source": [
    "washington_airbnb_3.info()\n",
    "# host_listings_countlatitude seems not tidy - do not need here anyway"
   ]
  },
  {
   "cell_type": "markdown",
   "metadata": {},
   "source": [
    "Removing columns with non-numerical, non-ordinal and host rating variables."
   ]
  },
  {
   "cell_type": "code",
   "execution_count": 547,
   "metadata": {},
   "outputs": [
    {
     "data": {
      "text/plain": [
       "Index(['accommodates', 'bedrooms', 'bathrooms', 'beds', 'price',\n",
       "       'cleaning_fee', 'security_deposit', 'minimum_nights', 'maximum_nights',\n",
       "       'number_of_reviews'],\n",
       "      dtype='object')"
      ]
     },
     "execution_count": 547,
     "metadata": {},
     "output_type": "execute_result"
    }
   ],
   "source": [
    "variables_drop =   [\"room_type\",\n",
    "                    \"city\",\n",
    "                    \"state\",\n",
    "                    \"longitude\",\n",
    "                    \"host_listings_countlatitude\",\n",
    "                    \"zipcode\",\n",
    "                    \"host_response_rate\",\n",
    "                    \"host_acceptance_rate\"]\n",
    "washington_airbnb_3.drop(labels=variables_drop, axis=1, inplace=True)\n",
    "\n",
    "washington_airbnb_3.columns"
   ]
  },
  {
   "cell_type": "code",
   "execution_count": 548,
   "metadata": {},
   "outputs": [
    {
     "name": "stdout",
     "output_type": "stream",
     "text": [
      "(3723, 10)\n",
      "accommodates            0\n",
      "bedrooms               21\n",
      "bathrooms              27\n",
      "beds                   11\n",
      "price                   0\n",
      "cleaning_fee         1388\n",
      "security_deposit     2297\n",
      "minimum_nights          0\n",
      "maximum_nights          0\n",
      "number_of_reviews       0\n",
      "dtype: int64\n"
     ]
    }
   ],
   "source": [
    "print(washington_airbnb_3.shape)\n",
    "print(washington_airbnb_3.isnull().sum())"
   ]
  },
  {
   "cell_type": "code",
   "execution_count": 549,
   "metadata": {},
   "outputs": [
    {
     "data": {
      "text/plain": [
       "accommodates          0.00\n",
       "bedrooms              0.56\n",
       "bathrooms             0.73\n",
       "beds                  0.30\n",
       "price                 0.00\n",
       "cleaning_fee         37.28\n",
       "security_deposit     61.70\n",
       "minimum_nights        0.00\n",
       "maximum_nights        0.00\n",
       "number_of_reviews     0.00\n",
       "dtype: float64"
      ]
     },
     "execution_count": 549,
     "metadata": {},
     "output_type": "execute_result"
    }
   ],
   "source": [
    "number_observations = washington_airbnb_3.shape[0]\n",
    "percentage_missing_values = round((washington_airbnb_3.isnull().sum()/number_observations)*100,2)\n",
    "percentage_missing_values "
   ]
  },
  {
   "cell_type": "markdown",
   "metadata": {},
   "source": [
    "Bedrooms, beds and bathrooms have low percentage of missing values. These observations can be dropped without \n",
    "damage the data set. The cleaning_fee and security_deposit have substantial missing values.\n",
    "Dropping all observations containing these missing values entirely would harm the quality of the data set.\n",
    "Instead dropping the columns are dropped."
   ]
  },
  {
   "cell_type": "code",
   "execution_count": 550,
   "metadata": {},
   "outputs": [
    {
     "data": {
      "text/plain": [
       "accommodates         0\n",
       "bedrooms             0\n",
       "bathrooms            0\n",
       "beds                 0\n",
       "price                0\n",
       "minimum_nights       0\n",
       "maximum_nights       0\n",
       "number_of_reviews    0\n",
       "dtype: int64"
      ]
     },
     "execution_count": 550,
     "metadata": {},
     "output_type": "execute_result"
    }
   ],
   "source": [
    "drop_two_cols = [\"cleaning_fee\" , \"security_deposit\"]\n",
    "\n",
    "washington_airbnb_3.drop(labels=drop_two_cols, axis=1, inplace=True)\n",
    "washington_airbnb_3.dropna(axis=0, inplace=True, how='any')\n",
    "\n",
    "washington_airbnb_3.isnull().sum()"
   ]
  },
  {
   "cell_type": "markdown",
   "metadata": {},
   "source": [
    "Missing values are not given any longer."
   ]
  },
  {
   "cell_type": "code",
   "execution_count": 551,
   "metadata": {},
   "outputs": [
    {
     "name": "stdout",
     "output_type": "stream",
     "text": [
      "{'accommodates': 15, 'bedrooms': 10.0, 'bathrooms': 8.0, 'beds': 15.0, 'price': 2812.0, 'minimum_nights': 179, 'maximum_nights': 2147483646, 'number_of_reviews': 362}\n"
     ]
    }
   ],
   "source": [
    "range_values_washington_airbnb_3 = {}\n",
    "col_list_1 = list(washington_airbnb_3.columns)\n",
    "range_list_1 = range(0,len(washington_airbnb_3.columns))\n",
    "for i, n in zip(range_list_1, col_list_1):\n",
    "    range_min_max =  washington_airbnb_3.iloc[:,i].max() - washington_airbnb_3.iloc[:,i].min()\n",
    "    range_values_washington_airbnb_3[n] = range_min_max\n",
    "\n",
    "print(range_values_washington_airbnb_3)"
   ]
  },
  {
   "cell_type": "code",
   "execution_count": 677,
   "metadata": {},
   "outputs": [],
   "source": [
    "# fig.subplots_adjust(hspace=0.4, wspace=0.4)\n",
    "# for e in range(1, 9):\n",
    "        # fig = plt.figure()  \n",
    "        # ax = fig.add_subplot(2, 4, e)\n",
    "        # for i,col in enumerate(washington_airbnb_3.columns):\n",
    "            # ax.boxplot(washington_airbnb_3[col])\n",
    "\n"
   ]
  },
  {
   "cell_type": "markdown",
   "metadata": {},
   "source": [
    "\n",
    "Minimum and maximum nights have one outlier. The range of 2147483646 in maximum nights is a mistake obviously."
   ]
  },
  {
   "cell_type": "code",
   "execution_count": 553,
   "metadata": {},
   "outputs": [
    {
     "data": {
      "image/png": "[encoded data removed]",
      "text/plain": [
       "<Figure size 1080x216 with 1 Axes>"
      ]
     },
     "metadata": {},
     "output_type": "display_data"
    },
    {
     "data": {
      "image/png": "[encoded data removed]",
      "text/plain": [
       "<Figure size 1080x216 with 1 Axes>"
      ]
     },
     "metadata": {},
     "output_type": "display_data"
    },
    {
     "data": {
      "image/png": "[encoded data removed]",
      "text/plain": [
       "<Figure size 1080x216 with 1 Axes>"
      ]
     },
     "metadata": {},
     "output_type": "display_data"
    },
    {
     "data": {
      "image/png": "[encoded data removed]",
      "text/plain": [
       "<Figure size 1080x216 with 1 Axes>"
      ]
     },
     "metadata": {},
     "output_type": "display_data"
    },
    {
     "data": {
      "image/png": "[encoded data removed]",
      "text/plain": [
       "<Figure size 1080x216 with 1 Axes>"
      ]
     },
     "metadata": {},
     "output_type": "display_data"
    },
    {
     "data": {
      "image/png": "[encoded data removed]",
      "text/plain": [
       "<Figure size 1080x216 with 1 Axes>"
      ]
     },
     "metadata": {},
     "output_type": "display_data"
    },
    {
     "data": {
      "image/png": "[encoded data removed]",
      "text/plain": [
       "<Figure size 1080x216 with 1 Axes>"
      ]
     },
     "metadata": {},
     "output_type": "display_data"
    },
    {
     "data": {
      "image/png": "[encoded data removed]",
      "text/plain": [
       "<Figure size 1080x216 with 1 Axes>"
      ]
     },
     "metadata": {},
     "output_type": "display_data"
    }
   ],
   "source": [
    "sns.set(rc={'figure.figsize':(15,3)})\n",
    "for i, col in enumerate(washington_airbnb_3.columns):\n",
    "    plt.figure(i)    \n",
    "    # sns.set(rc={'figure.figsize':(15,3)})\n",
    "    sns.boxplot(x=col, data=washington_airbnb_3, color='yellow')"
   ]
  },
  {
   "cell_type": "code",
   "execution_count": 554,
   "metadata": {},
   "outputs": [],
   "source": [
    "airbnb_1 = washington_airbnb_3.copy()"
   ]
  },
  {
   "cell_type": "code",
   "execution_count": 555,
   "metadata": {},
   "outputs": [
    {
     "data": {
      "text/html": [
       "<div>\n",
       "<style>\n",
       "    .dataframe thead tr:only-child th {\n",
       "        text-align: right;\n",
       "    }\n",
       "\n",
       "    .dataframe thead th {\n",
       "        text-align: left;\n",
       "    }\n",
       "\n",
       "    .dataframe tbody tr th {\n",
       "        vertical-align: top;\n",
       "    }\n",
       "</style>\n",
       "<table border=\"1\" class=\"dataframe\">\n",
       "  <thead>\n",
       "    <tr style=\"text-align: right;\">\n",
       "      <th></th>\n",
       "      <th>accommodates</th>\n",
       "      <th>bedrooms</th>\n",
       "      <th>bathrooms</th>\n",
       "      <th>beds</th>\n",
       "      <th>price</th>\n",
       "      <th>minimum_nights</th>\n",
       "      <th>maximum_nights</th>\n",
       "      <th>number_of_reviews</th>\n",
       "    </tr>\n",
       "  </thead>\n",
       "  <tbody>\n",
       "    <tr>\n",
       "      <th>3720</th>\n",
       "      <td>6</td>\n",
       "      <td>2.0</td>\n",
       "      <td>1.0</td>\n",
       "      <td>3.0</td>\n",
       "      <td>275.0</td>\n",
       "      <td>2</td>\n",
       "      <td>2147483647</td>\n",
       "      <td>12</td>\n",
       "    </tr>\n",
       "  </tbody>\n",
       "</table>\n",
       "</div>"
      ],
      "text/plain": [
       "      accommodates  bedrooms  bathrooms  beds  price  minimum_nights  \\\n",
       "3720             6       2.0        1.0   3.0  275.0               2   \n",
       "\n",
       "      maximum_nights  number_of_reviews  \n",
       "3720      2147483647                 12  "
      ]
     },
     "execution_count": 555,
     "metadata": {},
     "output_type": "execute_result"
    }
   ],
   "source": [
    "condition_1 = airbnb_1['maximum_nights']==airbnb_1['maximum_nights'].max()\n",
    "airbnb_1[condition_1]"
   ]
  },
  {
   "cell_type": "code",
   "execution_count": 556,
   "metadata": {},
   "outputs": [],
   "source": [
    "condition_2 = airbnb_1['maximum_nights']!=airbnb_1['maximum_nights'].max()\n",
    "airbnb_1 = airbnb_1[condition_2]"
   ]
  },
  {
   "cell_type": "code",
   "execution_count": 557,
   "metadata": {},
   "outputs": [
    {
     "data": {
      "text/html": [
       "<div>\n",
       "<style>\n",
       "    .dataframe thead tr:only-child th {\n",
       "        text-align: right;\n",
       "    }\n",
       "\n",
       "    .dataframe thead th {\n",
       "        text-align: left;\n",
       "    }\n",
       "\n",
       "    .dataframe tbody tr th {\n",
       "        vertical-align: top;\n",
       "    }\n",
       "</style>\n",
       "<table border=\"1\" class=\"dataframe\">\n",
       "  <thead>\n",
       "    <tr style=\"text-align: right;\">\n",
       "      <th></th>\n",
       "      <th>accommodates</th>\n",
       "      <th>bedrooms</th>\n",
       "      <th>bathrooms</th>\n",
       "      <th>beds</th>\n",
       "      <th>price</th>\n",
       "      <th>minimum_nights</th>\n",
       "      <th>maximum_nights</th>\n",
       "      <th>number_of_reviews</th>\n",
       "    </tr>\n",
       "  </thead>\n",
       "  <tbody>\n",
       "    <tr>\n",
       "      <th>391</th>\n",
       "      <td>6</td>\n",
       "      <td>2.0</td>\n",
       "      <td>2.0</td>\n",
       "      <td>2.0</td>\n",
       "      <td>188.0</td>\n",
       "      <td>1</td>\n",
       "      <td>9999999</td>\n",
       "      <td>3</td>\n",
       "    </tr>\n",
       "  </tbody>\n",
       "</table>\n",
       "</div>"
      ],
      "text/plain": [
       "     accommodates  bedrooms  bathrooms  beds  price  minimum_nights  \\\n",
       "391             6       2.0        2.0   2.0  188.0               1   \n",
       "\n",
       "     maximum_nights  number_of_reviews  \n",
       "391         9999999                  3  "
      ]
     },
     "execution_count": 557,
     "metadata": {},
     "output_type": "execute_result"
    }
   ],
   "source": [
    "airbnb_1[airbnb_1['maximum_nights']==airbnb_1['maximum_nights'].max()]"
   ]
  },
  {
   "cell_type": "markdown",
   "metadata": {},
   "source": [
    "It seems there are additional implausible maximum nights values. Actually a stay longer than 30 days maybe\n",
    "possible, while in a legal grey area. However maximum nights at least longer than 1000 \n",
    "are probably false entries. These are here replaced with a maximum night of 100 using pandas slicing methods."
   ]
  },
  {
   "cell_type": "code",
   "execution_count": 558,
   "metadata": {},
   "outputs": [
    {
     "name": "stdout",
     "output_type": "stream",
     "text": [
      "      accommodates  bedrooms  bathrooms  beds  price  minimum_nights  \\\n",
      "2257             3       1.0        1.0   1.0  129.0               2   \n",
      "1208             3       0.0        1.0   2.0  139.0               1   \n",
      "224              3       1.0        1.0   2.0   99.0               3   \n",
      "1729             3       1.0        1.0   2.0   91.0               4   \n",
      "1524             3       1.0        1.0   2.0   60.0               2   \n",
      "\n",
      "      maximum_nights  number_of_reviews  \n",
      "2257            1125                  8  \n",
      "1208            1125                  1  \n",
      "224             1125                  4  \n",
      "1729            1125                  0  \n",
      "1524            1125                  0  \n",
      "2398\n"
     ]
    }
   ],
   "source": [
    "condition_3 = airbnb_1['maximum_nights']>1000\n",
    "print(airbnb_1[condition_3].head())\n",
    "print(airbnb_1.loc[condition_3, 'maximum_nights'].count())"
   ]
  },
  {
   "cell_type": "code",
   "execution_count": 559,
   "metadata": {},
   "outputs": [],
   "source": [
    "airbnb_2 = airbnb_1.copy()\n",
    "condition_4 = airbnb_2['maximum_nights']>1000\n",
    "airbnb_2.loc[condition_4, 'maximum_nights'] = 100"
   ]
  },
  {
   "cell_type": "code",
   "execution_count": 560,
   "metadata": {},
   "outputs": [],
   "source": [
    "# airbnb_2['maximum_nights']>1000"
   ]
  },
  {
   "cell_type": "code",
   "execution_count": 561,
   "metadata": {},
   "outputs": [
    {
     "name": "stdout",
     "output_type": "stream",
     "text": [
      "2407\n"
     ]
    }
   ],
   "source": [
    "airbnb_2[airbnb_2['maximum_nights']==100].head(2)\n",
    "print(airbnb_2.loc[airbnb_2['maximum_nights']==100, 'maximum_nights'].count())"
   ]
  },
  {
   "cell_type": "code",
   "execution_count": 562,
   "metadata": {},
   "outputs": [
    {
     "data": {
      "text/html": [
       "<div>\n",
       "<style>\n",
       "    .dataframe thead tr:only-child th {\n",
       "        text-align: right;\n",
       "    }\n",
       "\n",
       "    .dataframe thead th {\n",
       "        text-align: left;\n",
       "    }\n",
       "\n",
       "    .dataframe tbody tr th {\n",
       "        vertical-align: top;\n",
       "    }\n",
       "</style>\n",
       "<table border=\"1\" class=\"dataframe\">\n",
       "  <thead>\n",
       "    <tr style=\"text-align: right;\">\n",
       "      <th></th>\n",
       "      <th>accommodates</th>\n",
       "      <th>bedrooms</th>\n",
       "      <th>bathrooms</th>\n",
       "      <th>beds</th>\n",
       "      <th>price</th>\n",
       "      <th>minimum_nights</th>\n",
       "      <th>maximum_nights</th>\n",
       "      <th>number_of_reviews</th>\n",
       "    </tr>\n",
       "  </thead>\n",
       "  <tbody>\n",
       "    <tr>\n",
       "      <th>mean</th>\n",
       "      <td>3.19</td>\n",
       "      <td>1.21</td>\n",
       "      <td>1.26</td>\n",
       "      <td>1.65</td>\n",
       "      <td>148.81</td>\n",
       "      <td>2.24</td>\n",
       "      <td>111.04</td>\n",
       "      <td>15.11</td>\n",
       "    </tr>\n",
       "    <tr>\n",
       "      <th>max</th>\n",
       "      <td>16.00</td>\n",
       "      <td>10.00</td>\n",
       "      <td>8.00</td>\n",
       "      <td>16.00</td>\n",
       "      <td>2822.00</td>\n",
       "      <td>180.00</td>\n",
       "      <td>1000.00</td>\n",
       "      <td>362.00</td>\n",
       "    </tr>\n",
       "    <tr>\n",
       "      <th>min</th>\n",
       "      <td>1.00</td>\n",
       "      <td>0.00</td>\n",
       "      <td>0.00</td>\n",
       "      <td>1.00</td>\n",
       "      <td>10.00</td>\n",
       "      <td>1.00</td>\n",
       "      <td>1.00</td>\n",
       "      <td>0.00</td>\n",
       "    </tr>\n",
       "    <tr>\n",
       "      <th>std</th>\n",
       "      <td>2.00</td>\n",
       "      <td>0.84</td>\n",
       "      <td>0.59</td>\n",
       "      <td>1.18</td>\n",
       "      <td>137.55</td>\n",
       "      <td>3.62</td>\n",
       "      <td>121.81</td>\n",
       "      <td>29.24</td>\n",
       "    </tr>\n",
       "  </tbody>\n",
       "</table>\n",
       "</div>"
      ],
      "text/plain": [
       "      accommodates  bedrooms  bathrooms   beds    price  minimum_nights  \\\n",
       "mean          3.19      1.21       1.26   1.65   148.81            2.24   \n",
       "max          16.00     10.00       8.00  16.00  2822.00          180.00   \n",
       "min           1.00      0.00       0.00   1.00    10.00            1.00   \n",
       "std           2.00      0.84       0.59   1.18   137.55            3.62   \n",
       "\n",
       "      maximum_nights  number_of_reviews  \n",
       "mean          111.04              15.11  \n",
       "max          1000.00             362.00  \n",
       "min             1.00               0.00  \n",
       "std           121.81              29.24  "
      ]
     },
     "execution_count": 562,
     "metadata": {},
     "output_type": "execute_result"
    }
   ],
   "source": [
    "round(airbnb_2.aggregate(func=['mean', 'max', 'min','std']), 2)"
   ]
  },
  {
   "cell_type": "markdown",
   "metadata": {},
   "source": [
    "Even after cleaning the distance of the values in the different columns are spread out.\n",
    "For this reason the variables are now transformed by\n",
    "[normalization](https://en.wikipedia.org/wiki/Normalization_(statistics)) diminshing \n",
    "the impact of the variables greater in size."
   ]
  },
  {
   "cell_type": "code",
   "execution_count": 563,
   "metadata": {},
   "outputs": [
    {
     "data": {
      "text/html": [
       "<div>\n",
       "<style>\n",
       "    .dataframe thead tr:only-child th {\n",
       "        text-align: right;\n",
       "    }\n",
       "\n",
       "    .dataframe thead th {\n",
       "        text-align: left;\n",
       "    }\n",
       "\n",
       "    .dataframe tbody tr th {\n",
       "        vertical-align: top;\n",
       "    }\n",
       "</style>\n",
       "<table border=\"1\" class=\"dataframe\">\n",
       "  <thead>\n",
       "    <tr style=\"text-align: right;\">\n",
       "      <th></th>\n",
       "      <th>accommodates</th>\n",
       "      <th>bedrooms</th>\n",
       "      <th>bathrooms</th>\n",
       "      <th>beds</th>\n",
       "      <th>price</th>\n",
       "      <th>minimum_nights</th>\n",
       "      <th>maximum_nights</th>\n",
       "      <th>number_of_reviews</th>\n",
       "    </tr>\n",
       "  </thead>\n",
       "  <tbody>\n",
       "    <tr>\n",
       "      <th>mean</th>\n",
       "      <td>7.323721e-15</td>\n",
       "      <td>4.929254e-15</td>\n",
       "      <td>-3.780930e-15</td>\n",
       "      <td>3.234470e-15</td>\n",
       "      <td>148.809264</td>\n",
       "      <td>-4.376759e-16</td>\n",
       "      <td>-2.297610e-15</td>\n",
       "      <td>6.455629e-17</td>\n",
       "    </tr>\n",
       "    <tr>\n",
       "      <th>max</th>\n",
       "      <td>6.390039e+00</td>\n",
       "      <td>1.045471e+01</td>\n",
       "      <td>1.148851e+01</td>\n",
       "      <td>1.211701e+01</td>\n",
       "      <td>2822.000000</td>\n",
       "      <td>4.911617e+01</td>\n",
       "      <td>7.298044e+00</td>\n",
       "      <td>1.186342e+01</td>\n",
       "    </tr>\n",
       "    <tr>\n",
       "      <th>min</th>\n",
       "      <td>-1.095260e+00</td>\n",
       "      <td>-1.438531e+00</td>\n",
       "      <td>-2.143184e+00</td>\n",
       "      <td>-5.465696e-01</td>\n",
       "      <td>10.000000</td>\n",
       "      <td>-3.413459e-01</td>\n",
       "      <td>-9.034197e-01</td>\n",
       "      <td>-5.166679e-01</td>\n",
       "    </tr>\n",
       "    <tr>\n",
       "      <th>std</th>\n",
       "      <td>1.000000e+00</td>\n",
       "      <td>1.000000e+00</td>\n",
       "      <td>1.000000e+00</td>\n",
       "      <td>1.000000e+00</td>\n",
       "      <td>137.553017</td>\n",
       "      <td>1.000000e+00</td>\n",
       "      <td>1.000000e+00</td>\n",
       "      <td>1.000000e+00</td>\n",
       "    </tr>\n",
       "  </tbody>\n",
       "</table>\n",
       "</div>"
      ],
      "text/plain": [
       "      accommodates      bedrooms     bathrooms          beds        price  \\\n",
       "mean  7.323721e-15  4.929254e-15 -3.780930e-15  3.234470e-15   148.809264   \n",
       "max   6.390039e+00  1.045471e+01  1.148851e+01  1.211701e+01  2822.000000   \n",
       "min  -1.095260e+00 -1.438531e+00 -2.143184e+00 -5.465696e-01    10.000000   \n",
       "std   1.000000e+00  1.000000e+00  1.000000e+00  1.000000e+00   137.553017   \n",
       "\n",
       "      minimum_nights  maximum_nights  number_of_reviews  \n",
       "mean   -4.376759e-16   -2.297610e-15       6.455629e-17  \n",
       "max     4.911617e+01    7.298044e+00       1.186342e+01  \n",
       "min    -3.413459e-01   -9.034197e-01      -5.166679e-01  \n",
       "std     1.000000e+00    1.000000e+00       1.000000e+00  "
      ]
     },
     "execution_count": 563,
     "metadata": {},
     "output_type": "execute_result"
    }
   ],
   "source": [
    "airbnb_3 = airbnb_2.copy()\n",
    "\n",
    "airbnb_3_normalized = (airbnb_3 - airbnb_3.mean()) /airbnb_3.std()\n",
    "airbnb_3_normalized['price'] = airbnb_2['price']\n",
    "airbnb_3_normalized.aggregate(['mean', 'max' , 'min', 'std'])"
   ]
  },
  {
   "cell_type": "code",
   "execution_count": 564,
   "metadata": {},
   "outputs": [
    {
     "data": {
      "text/html": [
       "<div>\n",
       "<style>\n",
       "    .dataframe thead tr:only-child th {\n",
       "        text-align: right;\n",
       "    }\n",
       "\n",
       "    .dataframe thead th {\n",
       "        text-align: left;\n",
       "    }\n",
       "\n",
       "    .dataframe tbody tr th {\n",
       "        vertical-align: top;\n",
       "    }\n",
       "</style>\n",
       "<table border=\"1\" class=\"dataframe\">\n",
       "  <thead>\n",
       "    <tr style=\"text-align: right;\">\n",
       "      <th></th>\n",
       "      <th>accommodates</th>\n",
       "      <th>bedrooms</th>\n",
       "      <th>bathrooms</th>\n",
       "      <th>beds</th>\n",
       "      <th>price</th>\n",
       "      <th>minimum_nights</th>\n",
       "      <th>maximum_nights</th>\n",
       "      <th>number_of_reviews</th>\n",
       "    </tr>\n",
       "  </thead>\n",
       "  <tbody>\n",
       "    <tr>\n",
       "      <th>2257</th>\n",
       "      <td>-0.097221</td>\n",
       "      <td>-0.249207</td>\n",
       "      <td>-0.439223</td>\n",
       "      <td>-0.546570</td>\n",
       "      <td>129.0</td>\n",
       "      <td>-0.065047</td>\n",
       "      <td>-0.090662</td>\n",
       "      <td>-0.243075</td>\n",
       "    </tr>\n",
       "    <tr>\n",
       "      <th>1208</th>\n",
       "      <td>-0.097221</td>\n",
       "      <td>-1.438531</td>\n",
       "      <td>-0.439223</td>\n",
       "      <td>0.297669</td>\n",
       "      <td>139.0</td>\n",
       "      <td>-0.341346</td>\n",
       "      <td>-0.090662</td>\n",
       "      <td>-0.482469</td>\n",
       "    </tr>\n",
       "    <tr>\n",
       "      <th>224</th>\n",
       "      <td>-0.097221</td>\n",
       "      <td>-0.249207</td>\n",
       "      <td>-0.439223</td>\n",
       "      <td>0.297669</td>\n",
       "      <td>99.0</td>\n",
       "      <td>0.211252</td>\n",
       "      <td>-0.090662</td>\n",
       "      <td>-0.379871</td>\n",
       "    </tr>\n",
       "    <tr>\n",
       "      <th>1729</th>\n",
       "      <td>-0.097221</td>\n",
       "      <td>-0.249207</td>\n",
       "      <td>-0.439223</td>\n",
       "      <td>0.297669</td>\n",
       "      <td>91.0</td>\n",
       "      <td>0.487551</td>\n",
       "      <td>-0.090662</td>\n",
       "      <td>-0.516668</td>\n",
       "    </tr>\n",
       "    <tr>\n",
       "      <th>976</th>\n",
       "      <td>-0.097221</td>\n",
       "      <td>-0.249207</td>\n",
       "      <td>-0.439223</td>\n",
       "      <td>-0.546570</td>\n",
       "      <td>95.0</td>\n",
       "      <td>-0.065047</td>\n",
       "      <td>-0.090662</td>\n",
       "      <td>-0.003681</td>\n",
       "    </tr>\n",
       "  </tbody>\n",
       "</table>\n",
       "</div>"
      ],
      "text/plain": [
       "      accommodates  bedrooms  bathrooms      beds  price  minimum_nights  \\\n",
       "2257     -0.097221 -0.249207  -0.439223 -0.546570  129.0       -0.065047   \n",
       "1208     -0.097221 -1.438531  -0.439223  0.297669  139.0       -0.341346   \n",
       "224      -0.097221 -0.249207  -0.439223  0.297669   99.0        0.211252   \n",
       "1729     -0.097221 -0.249207  -0.439223  0.297669   91.0        0.487551   \n",
       "976      -0.097221 -0.249207  -0.439223 -0.546570   95.0       -0.065047   \n",
       "\n",
       "      maximum_nights  number_of_reviews  \n",
       "2257       -0.090662          -0.243075  \n",
       "1208       -0.090662          -0.482469  \n",
       "224        -0.090662          -0.379871  \n",
       "1729       -0.090662          -0.516668  \n",
       "976        -0.090662          -0.003681  "
      ]
     },
     "execution_count": 564,
     "metadata": {},
     "output_type": "execute_result"
    }
   ],
   "source": [
    "airbnb_3_normalized.head()"
   ]
  },
  {
   "cell_type": "code",
   "execution_count": 565,
   "metadata": {},
   "outputs": [
    {
     "name": "stdout",
     "output_type": "stream",
     "text": [
      "<class 'pandas.core.frame.DataFrame'>\n",
      "(3670, 8)\n"
     ]
    }
   ],
   "source": [
    "print(type(airbnb_3_normalized))\n",
    "print(airbnb_3_normalized.shape)"
   ]
  },
  {
   "cell_type": "code",
   "execution_count": 566,
   "metadata": {},
   "outputs": [
    {
     "data": {
      "text/plain": [
       "Series([], Name: accommodates, dtype: float64)"
      ]
     },
     "execution_count": 566,
     "metadata": {},
     "output_type": "execute_result"
    }
   ],
   "source": [
    "# Should I keep the index?\n",
    "airbnb_3_normalized.loc[airbnb_3_normalized['accommodates']== (-0.097221), 'accommodates']"
   ]
  },
  {
   "cell_type": "code",
   "execution_count": 567,
   "metadata": {},
   "outputs": [
    {
     "data": {
      "text/plain": [
       "array([-0.09722051,  0.40179945, -0.59624047, -1.09526044,  0.90081942,\n",
       "        1.39983938,  1.89885934,  2.39787931,  2.89689927,  3.39591924,\n",
       "        3.8949392 ,  4.39395916,  4.89297913,  5.39199909,  5.89101906,\n",
       "        6.39003902])"
      ]
     },
     "execution_count": 567,
     "metadata": {},
     "output_type": "execute_result"
    }
   ],
   "source": [
    "airbnb_3_normalized['accommodates'].unique()"
   ]
  },
  {
   "cell_type": "code",
   "execution_count": 568,
   "metadata": {},
   "outputs": [
    {
     "data": {
      "text/plain": [
       "-0.596240    1578\n",
       " 0.401799     680\n",
       "-0.097221     457\n",
       "-1.095260     336\n",
       " 1.399839     275\n",
       " 0.900819     161\n",
       " 2.397879      73\n",
       " 1.898859      35\n",
       " 3.395919      22\n",
       " 2.896899      17\n",
       " 4.393959       9\n",
       " 6.390039       8\n",
       " 3.894939       7\n",
       " 5.891019       6\n",
       " 5.391999       4\n",
       " 4.892979       2\n",
       "Name: accommodates, dtype: int64"
      ]
     },
     "execution_count": 568,
     "metadata": {},
     "output_type": "execute_result"
    }
   ],
   "source": [
    "airbnb_3_normalized['accommodates'].value_counts()"
   ]
  },
  {
   "cell_type": "code",
   "execution_count": 569,
   "metadata": {},
   "outputs": [
    {
     "data": {
      "text/plain": [
       "2     1578\n",
       "4      680\n",
       "3      457\n",
       "1      336\n",
       "6      275\n",
       "5      161\n",
       "8       73\n",
       "7       35\n",
       "10      22\n",
       "9       17\n",
       "12       9\n",
       "16       8\n",
       "11       7\n",
       "15       6\n",
       "14       4\n",
       "13       2\n",
       "Name: accommodates, dtype: int64"
      ]
     },
     "execution_count": 569,
     "metadata": {},
     "output_type": "execute_result"
    }
   ],
   "source": [
    "airbnb_2['accommodates'].value_counts()"
   ]
  },
  {
   "cell_type": "code",
   "execution_count": 570,
   "metadata": {},
   "outputs": [
    {
     "data": {
      "text/plain": [
       "3300    2\n",
       "2759    2\n",
       "939     2\n",
       "1993    2\n",
       "2941    2\n",
       "Name: accommodates, dtype: int64"
      ]
     },
     "execution_count": 570,
     "metadata": {},
     "output_type": "execute_result"
    }
   ],
   "source": [
    "airbnb_2.loc[airbnb_2['accommodates']==2, 'accommodates'].head()"
   ]
  },
  {
   "cell_type": "code",
   "execution_count": 571,
   "metadata": {},
   "outputs": [
    {
     "data": {
      "text/plain": [
       "3223    6\n",
       "3650    6\n",
       "3541    6\n",
       "2035    6\n",
       "2302    6\n",
       "Name: accommodates, dtype: int64"
      ]
     },
     "execution_count": 571,
     "metadata": {},
     "output_type": "execute_result"
    }
   ],
   "source": [
    "airbnb_2.loc[airbnb_2['accommodates']==6, 'accommodates'].head()"
   ]
  },
  {
   "cell_type": "markdown",
   "metadata": {},
   "source": [
    "Calculating Eucledian distances using scipy."
   ]
  },
  {
   "cell_type": "code",
   "execution_count": 572,
   "metadata": {},
   "outputs": [
    {
     "name": "stdout",
     "output_type": "stream",
     "text": [
      "bedrooms       -0.249207\n",
      "accommodates   -0.596240\n",
      "Name: 1334, dtype: float64\n",
      "bedrooms        2.129440\n",
      "accommodates    1.399839\n",
      "Name: 3167, dtype: float64\n"
     ]
    }
   ],
   "source": [
    "observation_1 = airbnb_3_normalized.loc[1334 ][['bedrooms', 'accommodates' ]]\n",
    "observation_2 = airbnb_3_normalized.loc[3167][['bedrooms', 'accommodates' ]]\n",
    "print(observation_1)\n",
    "print(observation_2)"
   ]
  },
  {
   "cell_type": "code",
   "execution_count": 573,
   "metadata": {},
   "outputs": [
    {
     "data": {
      "text/plain": [
       "3.1052050097758346"
      ]
     },
     "execution_count": 573,
     "metadata": {},
     "output_type": "execute_result"
    }
   ],
   "source": [
    "from scipy.spatial import distance\n",
    "\n",
    "distance.euclidean(observation_1, observation_2)"
   ]
  },
  {
   "cell_type": "markdown",
   "metadata": {},
   "source": [
    "Now the [scikit-learn](https://scikit-learn.org/stable/) workflow is used by:\n",
    "\n",
    "<ul>\n",
    "<li>instantiate the knn machine learning model</li>\n",
    "<li>fit the model to the training data</li>\n",
    "<li>make predictions</li>\n",
    "<li>evaluate the accuracy of the predictions</li>\n",
    "</ul>\n",
    "\n"
   ]
  },
  {
   "cell_type": "markdown",
   "metadata": {},
   "source": [
    "Make train and test data sets."
   ]
  },
  {
   "cell_type": "code",
   "execution_count": 574,
   "metadata": {},
   "outputs": [
    {
     "name": "stdout",
     "output_type": "stream",
     "text": [
      "(2752, 8)\n",
      "Int64Index([2784, 1158, 2640, 2364, 765], dtype='int64')\n",
      "2752\n"
     ]
    }
   ],
   "source": [
    "train_set_1_normal = airbnb_3_normalized.sample(frac=0.75, random_state=0)\n",
    "print(train_set_1_normal.shape)\n",
    "\n",
    "print(train_set_1_normal.index[0:5])\n",
    "print(len(train_set_1_normal))\n",
    "train_set_1_normal_index = train_set_1_normal.index"
   ]
  },
  {
   "cell_type": "code",
   "execution_count": 575,
   "metadata": {},
   "outputs": [
    {
     "name": "stdout",
     "output_type": "stream",
     "text": [
      "(918, 8)\n"
     ]
    }
   ],
   "source": [
    "test_set_1_normal = airbnb_3_normalized.drop(train_set_1_normal_index , axis='index')\n",
    "print(test_set_1_normal.shape)"
   ]
  },
  {
   "cell_type": "code",
   "execution_count": 576,
   "metadata": {},
   "outputs": [],
   "source": [
    "train_set_2_normal = train_set_1_normal.copy()\n",
    "test_set_2_normal = test_set_1_normal.copy()"
   ]
  },
  {
   "cell_type": "markdown",
   "metadata": {},
   "source": [
    "Extracting features, predictors, explanatory, independent variables selected from the training data set."
   ]
  },
  {
   "cell_type": "code",
   "execution_count": 577,
   "metadata": {},
   "outputs": [
    {
     "name": "stdout",
     "output_type": "stream",
     "text": [
      "(2752, 3)\n"
     ]
    }
   ],
   "source": [
    "training_features_2 = train_set_2_normal[['accommodates', 'bathrooms', 'bedrooms']]\n",
    "print(training_features_2.shape)\n"
   ]
  },
  {
   "cell_type": "markdown",
   "metadata": {},
   "source": [
    "Extracting target, response, dependent variable."
   ]
  },
  {
   "cell_type": "code",
   "execution_count": 578,
   "metadata": {},
   "outputs": [
    {
     "name": "stdout",
     "output_type": "stream",
     "text": [
      "(2752,)\n"
     ]
    }
   ],
   "source": [
    "training_target_2 = train_set_2_normal['price']\n",
    "print(training_target_2.shape)"
   ]
  },
  {
   "cell_type": "markdown",
   "metadata": {},
   "source": [
    " Instantiating a knn model using regression as the target price variable is a continuous numerical variable."
   ]
  },
  {
   "cell_type": "code",
   "execution_count": 579,
   "metadata": {},
   "outputs": [
    {
     "name": "stdout",
     "output_type": "stream",
     "text": [
      "KNeighborsRegressor(algorithm='brute', leaf_size=30, metric='minkowski',\n",
      "          metric_params=None, n_jobs=1, n_neighbors=5, p=2,\n",
      "          weights='uniform')\n"
     ]
    }
   ],
   "source": [
    "from sklearn.neighbors import KNeighborsRegressor \n",
    "knn_model_3_features = KNeighborsRegressor(algorithm='brute', n_neighbors = 5)\n",
    "print(knn_model_3_features)"
   ]
  },
  {
   "cell_type": "markdown",
   "metadata": {},
   "source": [
    "Fit the model to training data."
   ]
  },
  {
   "cell_type": "code",
   "execution_count": 580,
   "metadata": {},
   "outputs": [
    {
     "data": {
      "text/plain": [
       "KNeighborsRegressor(algorithm='brute', leaf_size=30, metric='minkowski',\n",
       "          metric_params=None, n_jobs=1, n_neighbors=5, p=2,\n",
       "          weights='uniform')"
      ]
     },
     "execution_count": 580,
     "metadata": {},
     "output_type": "execute_result"
    }
   ],
   "source": [
    "knn_model_3_features.fit(train_set_1_normal[['accommodates', 'bathrooms', 'bedrooms']], train_set_1_normal['price'])"
   ]
  },
  {
   "cell_type": "markdown",
   "metadata": {},
   "source": [
    "Make predictions."
   ]
  },
  {
   "cell_type": "code",
   "execution_count": 581,
   "metadata": {},
   "outputs": [
    {
     "name": "stdout",
     "output_type": "stream",
     "text": [
      "(918,)\n",
      "[ 144.8  144.8  144.8  144.8  144.8  196.   144.8  144.8  144.8  149.8]\n"
     ]
    }
   ],
   "source": [
    "predictions_1 = knn_model_3_features.predict(test_set_1_normal[['accommodates', 'bathrooms', 'bedrooms']])\n",
    "print(predictions_1.shape)\n",
    "print(predictions_1[0:10])"
   ]
  },
  {
   "cell_type": "markdown",
   "metadata": {},
   "source": [
    "Evaluating the quality of predictions using mean squared error from sklearn.metrics."
   ]
  },
  {
   "cell_type": "code",
   "execution_count": 582,
   "metadata": {},
   "outputs": [
    {
     "name": "stdout",
     "output_type": "stream",
     "text": [
      "Mean Squared Error (mse): 10116.6172\n",
      "Root Mean Squared Error (rmse): 122.5936\n"
     ]
    }
   ],
   "source": [
    "from sklearn.metrics import mean_squared_error\n",
    "\n",
    "mse_model_3 = mean_squared_error(test_set_1_normal['price'], predictions_1)\n",
    "rmse_model_3 = np.sqrt(mse_1)\n",
    "\n",
    "print(\"Mean Squared Error (mse): {}\".format(round(mse_model_3, 4)))\n",
    "print(\"Root Mean Squared Error (rmse): {}\".format(round(rmse_model_3, 4)))\n",
    "\n"
   ]
  },
  {
   "cell_type": "code",
   "execution_count": 583,
   "metadata": {},
   "outputs": [
    {
     "name": "stdout",
     "output_type": "stream",
     "text": [
      "Mean Squared Error (mse) - model 2: 13556.0934\n",
      "Root Mean Squared Error (mse) - model 2: 116.4306\n"
     ]
    }
   ],
   "source": [
    "print(\"Mean Squared Error (mse) - model 2: {}\".format(round(mse_2, 4)))\n",
    "print(\"Root Mean Squared Error (mse) - model 2: {}\".format(round(rmse_2, 4)))\n"
   ]
  },
  {
   "cell_type": "markdown",
   "metadata": {},
   "source": [
    "The new model combining three features within sklearn workflow has improved the the rmse from 147.7282 Dollar to\n",
    "104.4553 Dollar. This can further be improved."
   ]
  },
  {
   "cell_type": "markdown",
   "metadata": {},
   "source": [
    "<b>Feature selection</b><br>\n",
    "Increasing the number of features used for predictions."
   ]
  },
  {
   "cell_type": "code",
   "execution_count": 584,
   "metadata": {},
   "outputs": [
    {
     "data": {
      "text/plain": [
       "Index(['accommodates', 'bedrooms', 'bathrooms', 'beds', 'price',\n",
       "       'minimum_nights', 'maximum_nights', 'number_of_reviews'],\n",
       "      dtype='object')"
      ]
     },
     "execution_count": 584,
     "metadata": {},
     "output_type": "execute_result"
    }
   ],
   "source": [
    "train_set_1_normal.columns"
   ]
  },
  {
   "cell_type": "code",
   "execution_count": 585,
   "metadata": {},
   "outputs": [],
   "source": [
    "features_4 = ['accommodates', 'bedrooms', 'bathrooms', 'number_of_reviews']"
   ]
  },
  {
   "cell_type": "code",
   "execution_count": 586,
   "metadata": {},
   "outputs": [
    {
     "data": {
      "text/plain": [
       "KNeighborsRegressor(algorithm='brute', leaf_size=30, metric='minkowski',\n",
       "          metric_params=None, n_jobs=1, n_neighbors=5, p=2,\n",
       "          weights='uniform')"
      ]
     },
     "execution_count": 586,
     "metadata": {},
     "output_type": "execute_result"
    }
   ],
   "source": [
    "knn_model_4_features = KNeighborsRegressor(algorithm='brute', n_neighbors=5)\n",
    "knn_model_4_features"
   ]
  },
  {
   "cell_type": "code",
   "execution_count": 587,
   "metadata": {},
   "outputs": [
    {
     "data": {
      "text/plain": [
       "KNeighborsRegressor(algorithm='brute', leaf_size=30, metric='minkowski',\n",
       "          metric_params=None, n_jobs=1, n_neighbors=5, p=2,\n",
       "          weights='uniform')"
      ]
     },
     "execution_count": 587,
     "metadata": {},
     "output_type": "execute_result"
    }
   ],
   "source": [
    "knn_model_4_features.fit(train_set_1_normal[features_4], train_set_1_normal['price'])"
   ]
  },
  {
   "cell_type": "code",
   "execution_count": 588,
   "metadata": {},
   "outputs": [
    {
     "name": "stdout",
     "output_type": "stream",
     "text": [
      "(918,)\n",
      "[ 122.6  180.8   96.8  131.4  122.2  197.6  107.2  180.8  117.8  108.8]\n"
     ]
    }
   ],
   "source": [
    "predictions_4 = knn_model_4_features.predict(test_set_1_normal[features_4])\n",
    "print(predictions_4.shape)\n",
    "print(predictions_4[0:10])"
   ]
  },
  {
   "cell_type": "code",
   "execution_count": 589,
   "metadata": {},
   "outputs": [
    {
     "name": "stdout",
     "output_type": "stream",
     "text": [
      "Mean Squared Error with 4 features: 12875.4617\n",
      "Root Mean Squared Error with 4 features: 113.47\n"
     ]
    }
   ],
   "source": [
    "# mean_squared_error(y_true, y_pred)\n",
    "mse_4 = mean_squared_error(test_set_1_normal['price'], predictions_4)\n",
    "print(\"Mean Squared Error with 4 features: {}\".format(round(mse_4, 4)))\n",
    "rmse_4 = np.sqrt(mse_4)\n",
    "print(\"Root Mean Squared Error with 4 features: {}\".format(round(rmse_4, 2)))"
   ]
  },
  {
   "cell_type": "markdown",
   "metadata": {},
   "source": [
    "Using 4 features did not produce a better RMSE. More features will not necessarily produce better results."
   ]
  },
  {
   "cell_type": "markdown",
   "metadata": {},
   "source": [
    "Make a model with all features."
   ]
  },
  {
   "cell_type": "code",
   "execution_count": 590,
   "metadata": {},
   "outputs": [
    {
     "data": {
      "text/plain": [
       "['accommodates',\n",
       " 'bedrooms',\n",
       " 'bathrooms',\n",
       " 'beds',\n",
       " 'price',\n",
       " 'minimum_nights',\n",
       " 'maximum_nights',\n",
       " 'number_of_reviews']"
      ]
     },
     "execution_count": 590,
     "metadata": {},
     "output_type": "execute_result"
    }
   ],
   "source": [
    "features_all = list(train_set_1_normal.columns)\n",
    "features_all"
   ]
  },
  {
   "cell_type": "code",
   "execution_count": 591,
   "metadata": {},
   "outputs": [
    {
     "data": {
      "text/plain": [
       "['accommodates',\n",
       " 'bedrooms',\n",
       " 'bathrooms',\n",
       " 'beds',\n",
       " 'minimum_nights',\n",
       " 'maximum_nights',\n",
       " 'number_of_reviews']"
      ]
     },
     "execution_count": 591,
     "metadata": {},
     "output_type": "execute_result"
    }
   ],
   "source": [
    "features_all.remove('price')\n",
    "features_all"
   ]
  },
  {
   "cell_type": "code",
   "execution_count": 592,
   "metadata": {},
   "outputs": [
    {
     "data": {
      "text/plain": [
       "KNeighborsRegressor(algorithm='brute', leaf_size=30, metric='minkowski',\n",
       "          metric_params=None, n_jobs=1, n_neighbors=5, p=2,\n",
       "          weights='uniform')"
      ]
     },
     "execution_count": 592,
     "metadata": {},
     "output_type": "execute_result"
    }
   ],
   "source": [
    "# Initiating the model\n",
    "knn_model_all_features = KNeighborsRegressor(algorithm = 'brute', n_neighbors=5)\n",
    "# Fit the model to the training data\n",
    "knn_model_all_features.fit(train_set_1_normal[features_all], train_set_1_normal['price'])"
   ]
  },
  {
   "cell_type": "code",
   "execution_count": 593,
   "metadata": {},
   "outputs": [
    {
     "name": "stdout",
     "output_type": "stream",
     "text": [
      "(918,)\n",
      "[ 119.4  114.8  109.4  200.   109. ]\n"
     ]
    }
   ],
   "source": [
    "# Predictions\n",
    "predictions_all  = knn_model_all_features.predict(test_set_1_normal[features_all])\n",
    "print(predictions_all.shape)\n",
    "print(predictions_all[200:205])"
   ]
  },
  {
   "cell_type": "code",
   "execution_count": 594,
   "metadata": {},
   "outputs": [
    {
     "name": "stdout",
     "output_type": "stream",
     "text": [
      "Mean Squared Error using all features: 9992.008\n",
      "Root Mean Squared Error using all features: 99.96\n"
     ]
    }
   ],
   "source": [
    "# Evaluate\n",
    "# mean_squared_error(y_true, y_pred)\n",
    "mse_all = mean_squared_error(test_set_1_normal['price'], predictions_all)\n",
    "print(\"Mean Squared Error using all features: {}\".format(round(mse_all, 4)))\n",
    "rmse_all = mse_all ** (1/2)\n",
    "print(\"Root Mean Squared Error using all features: {}\".format(round(rmse_all,4)))"
   ]
  },
  {
   "cell_type": "markdown",
   "metadata": {},
   "source": [
    "Trying out 7 features"
   ]
  },
  {
   "cell_type": "code",
   "execution_count": 595,
   "metadata": {},
   "outputs": [],
   "source": [
    "features_7 =['accommodates',\n",
    "             'bedrooms',\n",
    "             'bathrooms',\n",
    "             'beds',\n",
    "             'price',\n",
    "             'minimum_nights',\n",
    "             'maximum_nights',]"
   ]
  },
  {
   "cell_type": "code",
   "execution_count": 596,
   "metadata": {},
   "outputs": [
    {
     "name": "stdout",
     "output_type": "stream",
     "text": [
      "(918,)\n",
      "[ 100.  145.  120.  200.  100.]\n",
      "Mean Squared Error using all features: 53.3673\n",
      "Root Mean Squared Error using all features: 99.96\n"
     ]
    }
   ],
   "source": [
    "# Initiating the model\n",
    "knn_model_7_features = KNeighborsRegressor(algorithm = 'brute', n_neighbors=5)\n",
    "# Fit the model to the training data\n",
    "knn_model_7_features.fit(train_set_1_normal[features_7], train_set_1_normal['price'])\n",
    "# Predictions\n",
    "predictions_7 = knn_model_7_features.predict(test_set_1_normal[features_7])\n",
    "print(predictions_7.shape)\n",
    "print(predictions_7[200:205])\n",
    "# Evaluate\n",
    "# mean_squared_error(y_true, y_pred)\n",
    "mse_7 = mean_squared_error(test_set_1_normal['price'], predictions_7)\n",
    "print(\"Mean Squared Error using all features: {}\".format(round(mse_7, 4)))\n",
    "rmse_7 = mse_all ** (1/2)\n",
    "print(\"Root Mean Squared Error using all features: {}\".format(round(rmse_7,4)))"
   ]
  },
  {
   "cell_type": "markdown",
   "metadata": {},
   "source": [
    "<b>Model selection based on the RMSE.</b><br>\n",
    "The model using all features brought the predictions slightly down compared to using 3 features.<br>\n",
    "As the RMSE is the decision criterion the model using all (or 7) features is selected for making predictions.\n"
   ]
  },
  {
   "cell_type": "markdown",
   "metadata": {},
   "source": [
    "### Improving model quality by tuning the number of neighbours parameter k.\n",
    "\n",
    "<p>\n",
    "The model with all features is now implemented with different values of k and the quality of predictions evaluated.\n",
    "</p>"
   ]
  },
  {
   "cell_type": "markdown",
   "metadata": {},
   "source": [
    "Implementing with 5 different values of k."
   ]
  },
  {
   "cell_type": "code",
   "execution_count": 597,
   "metadata": {},
   "outputs": [
    {
     "name": "stdout",
     "output_type": "stream",
     "text": [
      "{1: 180.00880000000001, 2: 127.6696, 3: 111.0654, 4: 104.5384, 5: 99.959999999999994}\n"
     ]
    }
   ],
   "source": [
    "hyperparameter_value_k_1 = np.arange(1,6,1)\n",
    "rmse_values_1 = {}\n",
    "\n",
    "for z,i in enumerate(hyperparameter_value_k_1):\n",
    "    z = z + 1\n",
    "    knn = KNeighborsRegressor(algorithm='brute', n_neighbors=i)\n",
    "    knn.fit(train_set_1_normal[features_all], train_set_1_normal['price'])\n",
    "    predictions = knn.predict(test_set_1_normal[features_all])\n",
    "    mse = mean_squared_error(test_set_1_normal['price'], predictions)\n",
    "    rmse = np.sqrt(mse)\n",
    "    rmse = np.around(rmse,4)\n",
    "    rmse_values_1[z] = rmse\n",
    "    \n",
    "print(rmse_values_1)"
   ]
  },
  {
   "cell_type": "code",
   "execution_count": 598,
   "metadata": {},
   "outputs": [
    {
     "name": "stdout",
     "output_type": "stream",
     "text": [
      "{1: 180.00880000000001, 2: 127.6696, 3: 111.0654, 4: 104.5384, 5: 99.959999999999994, 6: 97.1798, 7: 95.761700000000005, 8: 94.813400000000001, 9: 95.315600000000003, 10: 95.328900000000004, 11: 95.320700000000002, 12: 95.778499999999994, 13: 95.170100000000005, 14: 95.060299999999998, 15: 94.744200000000006, 16: 94.006600000000006, 17: 93.948800000000006, 18: 93.385800000000003, 19: 92.685500000000005, 20: 92.957499999999996}\n"
     ]
    }
   ],
   "source": [
    "hyperparameter_value_k_2 = np.arange(1,21,1)\n",
    "rmse_values_2 = {}\n",
    "\n",
    "for z,i in enumerate(hyperparameter_value_k_2):\n",
    "    z = z + 1\n",
    "    knn = KNeighborsRegressor(algorithm='brute', n_neighbors=i)\n",
    "    knn.fit(train_set_1_normal[features_all], train_set_1_normal['price'])\n",
    "    predictions = knn.predict(test_set_1_normal[features_all])\n",
    "    mse = mean_squared_error(test_set_1_normal['price'], predictions)\n",
    "    rmse = np.sqrt(mse)\n",
    "    rmse = np.around(rmse,4)\n",
    "    rmse_values_2[z] = rmse\n",
    "    \n",
    "print(rmse_values_2)"
   ]
  },
  {
   "cell_type": "code",
   "execution_count": 599,
   "metadata": {},
   "outputs": [
    {
     "data": {
      "text/html": [
       "<div>\n",
       "<style>\n",
       "    .dataframe thead tr:only-child th {\n",
       "        text-align: right;\n",
       "    }\n",
       "\n",
       "    .dataframe thead th {\n",
       "        text-align: left;\n",
       "    }\n",
       "\n",
       "    .dataframe tbody tr th {\n",
       "        vertical-align: top;\n",
       "    }\n",
       "</style>\n",
       "<table border=\"1\" class=\"dataframe\">\n",
       "  <thead>\n",
       "    <tr style=\"text-align: right;\">\n",
       "      <th></th>\n",
       "      <th>RMSE</th>\n",
       "    </tr>\n",
       "  </thead>\n",
       "  <tbody>\n",
       "    <tr>\n",
       "      <th>19</th>\n",
       "      <td>92.6855</td>\n",
       "    </tr>\n",
       "    <tr>\n",
       "      <th>20</th>\n",
       "      <td>92.9575</td>\n",
       "    </tr>\n",
       "    <tr>\n",
       "      <th>18</th>\n",
       "      <td>93.3858</td>\n",
       "    </tr>\n",
       "    <tr>\n",
       "      <th>17</th>\n",
       "      <td>93.9488</td>\n",
       "    </tr>\n",
       "    <tr>\n",
       "      <th>16</th>\n",
       "      <td>94.0066</td>\n",
       "    </tr>\n",
       "    <tr>\n",
       "      <th>15</th>\n",
       "      <td>94.7442</td>\n",
       "    </tr>\n",
       "    <tr>\n",
       "      <th>8</th>\n",
       "      <td>94.8134</td>\n",
       "    </tr>\n",
       "    <tr>\n",
       "      <th>14</th>\n",
       "      <td>95.0603</td>\n",
       "    </tr>\n",
       "    <tr>\n",
       "      <th>13</th>\n",
       "      <td>95.1701</td>\n",
       "    </tr>\n",
       "    <tr>\n",
       "      <th>9</th>\n",
       "      <td>95.3156</td>\n",
       "    </tr>\n",
       "    <tr>\n",
       "      <th>11</th>\n",
       "      <td>95.3207</td>\n",
       "    </tr>\n",
       "    <tr>\n",
       "      <th>10</th>\n",
       "      <td>95.3289</td>\n",
       "    </tr>\n",
       "    <tr>\n",
       "      <th>7</th>\n",
       "      <td>95.7617</td>\n",
       "    </tr>\n",
       "    <tr>\n",
       "      <th>12</th>\n",
       "      <td>95.7785</td>\n",
       "    </tr>\n",
       "    <tr>\n",
       "      <th>6</th>\n",
       "      <td>97.1798</td>\n",
       "    </tr>\n",
       "    <tr>\n",
       "      <th>5</th>\n",
       "      <td>99.9600</td>\n",
       "    </tr>\n",
       "    <tr>\n",
       "      <th>4</th>\n",
       "      <td>104.5384</td>\n",
       "    </tr>\n",
       "    <tr>\n",
       "      <th>3</th>\n",
       "      <td>111.0654</td>\n",
       "    </tr>\n",
       "    <tr>\n",
       "      <th>2</th>\n",
       "      <td>127.6696</td>\n",
       "    </tr>\n",
       "    <tr>\n",
       "      <th>1</th>\n",
       "      <td>180.0088</td>\n",
       "    </tr>\n",
       "  </tbody>\n",
       "</table>\n",
       "</div>"
      ],
      "text/plain": [
       "        RMSE\n",
       "19   92.6855\n",
       "20   92.9575\n",
       "18   93.3858\n",
       "17   93.9488\n",
       "16   94.0066\n",
       "15   94.7442\n",
       "8    94.8134\n",
       "14   95.0603\n",
       "13   95.1701\n",
       "9    95.3156\n",
       "11   95.3207\n",
       "10   95.3289\n",
       "7    95.7617\n",
       "12   95.7785\n",
       "6    97.1798\n",
       "5    99.9600\n",
       "4   104.5384\n",
       "3   111.0654\n",
       "2   127.6696\n",
       "1   180.0088"
      ]
     },
     "execution_count": 599,
     "metadata": {},
     "output_type": "execute_result"
    }
   ],
   "source": [
    "rmse_values_2_df = pd.DataFrame.from_dict(rmse_values_2, orient='index').sort_values(by=[0], ascending=True)\n",
    "rmse_values_2_df.rename(index=str, columns={0: \"RMSE\"}, inplace=True)\n",
    "rmse_values_2_df"
   ]
  },
  {
   "cell_type": "markdown",
   "metadata": {},
   "source": [
    "A hyperparameter of k = 16 delivers the best RMSE of 103.3761."
   ]
  },
  {
   "cell_type": "code",
   "execution_count": 600,
   "metadata": {},
   "outputs": [],
   "source": [
    "rmse_values_3_df = pd.DataFrame.from_dict(rmse_values_2, orient='index').sort_index(ascending=True)\n",
    "rmse_values_3_df.rename(index=str, columns={0: \"RMSE\"}, inplace=True)\n",
    "rmse_values_3_df_index = list(rmse_values_3_df.index)"
   ]
  },
  {
   "cell_type": "code",
   "execution_count": 601,
   "metadata": {},
   "outputs": [
    {
     "data": {
      "image/png": "[encoded data removed]",
      "text/plain": [
       "<Figure size 1080x216 with 1 Axes>"
      ]
     },
     "metadata": {},
     "output_type": "display_data"
    }
   ],
   "source": [
    "plt.scatter(x=rmse_values_3_df_index  , y=rmse_values_3_df.iloc[:,0])\n",
    "plt.xlabel(\"k - number of neighbours\")\n",
    "plt.ylabel('RMSE')\n",
    "plt.title(\"RMSE of number of neighbours k sorted from 1 k to 20 k\")\n",
    "plt.show()"
   ]
  },
  {
   "cell_type": "markdown",
   "metadata": {},
   "source": [
    "The RMSE jumps down from 1 to 2 neighbours and then increases. This is a expected pattern. \n",
    "It decreases then again slightly."
   ]
  },
  {
   "cell_type": "code",
   "execution_count": 602,
   "metadata": {},
   "outputs": [
    {
     "name": "stdout",
     "output_type": "stream",
     "text": [
      "[174.84790000000001, 127.63939999999999, 111.6896, 123.6704, 113.4701, 107.9915, 104.3227, 102.7833, 100.75709999999999, 98.942899999999995, 97.203199999999995, 95.884100000000004, 95.886499999999998, 95.001000000000005, 95.647800000000004, 95.330500000000001, 94.682699999999997, 94.087900000000005, 93.069199999999995, 92.891400000000004]\n"
     ]
    }
   ],
   "source": [
    "# features_4 = ['accommodates', 'bedrooms', 'bathrooms', 'number_of_reviews']\n",
    "hyperparameter_value_k_2 = np.arange(1,21,1)\n",
    "rmse_values_5 = []\n",
    "\n",
    "for i in hyperparameter_value_k_2:\n",
    "    \n",
    "    knn = KNeighborsRegressor(algorithm='brute', n_neighbors=i)\n",
    "    knn.fit(train_set_1_normal[features_4], train_set_1_normal['price'])\n",
    "    predictions = knn.predict(test_set_1_normal[features_4])\n",
    "    mse = mean_squared_error(test_set_1_normal['price'], predictions)\n",
    "    rmse = np.sqrt(mse)\n",
    "    rmse = np.around(rmse,4)\n",
    "    rmse_values_5.append(rmse)\n",
    "    \n",
    "print(rmse_values_5)"
   ]
  },
  {
   "cell_type": "markdown",
   "metadata": {},
   "source": [
    "The model with four features and 18 k produces with 101.1692 a better result.\n"
   ]
  },
  {
   "cell_type": "code",
   "execution_count": 603,
   "metadata": {},
   "outputs": [
    {
     "name": "stdout",
     "output_type": "stream",
     "text": [
      "[ 1  2  3  4  5  6  7  8  9 10 11 12 13 14 15 16 17 18 19 20]\n",
      "[174.84790000000001, 127.63939999999999, 111.6896, 123.6704, 113.4701, 107.9915, 104.3227, 102.7833, 100.75709999999999, 98.942899999999995, 97.203199999999995, 95.884100000000004, 95.886499999999998, 95.001000000000005, 95.647800000000004, 95.330500000000001, 94.682699999999997, 94.087900000000005, 93.069199999999995, 92.891400000000004]\n"
     ]
    }
   ],
   "source": [
    "print(hyperparameter_value_k_2)\n",
    "print(rmse_values_5)"
   ]
  },
  {
   "cell_type": "code",
   "execution_count": 604,
   "metadata": {},
   "outputs": [
    {
     "data": {
      "image/png": "[encoded data removed]",
      "text/plain": [
       "<Figure size 1080x216 with 1 Axes>"
      ]
     },
     "metadata": {},
     "output_type": "display_data"
    }
   ],
   "source": [
    "plt.scatter(x=hyperparameter_value_k_2, y=rmse_values_5 )\n",
    "plt.show()"
   ]
  },
  {
   "cell_type": "markdown",
   "metadata": {},
   "source": [
    "Determining minimum value of the k parameter with loop."
   ]
  },
  {
   "cell_type": "code",
   "execution_count": 605,
   "metadata": {},
   "outputs": [],
   "source": [
    "two_features = ['accommodates', 'bathrooms']\n",
    "hyper_params = [x for x in range(1,21)]\n",
    "\n",
    "\n",
    "all_mse = {}\n"
   ]
  },
  {
   "cell_type": "markdown",
   "metadata": {},
   "source": [
    "Determining the elements of the for loop."
   ]
  },
  {
   "cell_type": "code",
   "execution_count": 606,
   "metadata": {},
   "outputs": [],
   "source": [
    "# Make a dictionary of all mse values = all_mse\n",
    "for i, v in enumerate(hyper_params):\n",
    "    knn = KNeighborsRegressor(algorithm='brute', n_neighbors=v)\n",
    "    knn.fit(train_set_1_normal[two_features], train_set_1_normal['price'])\n",
    "    predictions = knn.predict(test_set_1_normal[two_features])\n",
    "    mse = mean_squared_error(test_set_1_normal['price'], predictions)\n",
    "    all_mse[i] = mse"
   ]
  },
  {
   "cell_type": "code",
   "execution_count": 607,
   "metadata": {},
   "outputs": [
    {
     "name": "stdout",
     "output_type": "stream",
     "text": [
      "{0: 19586.898692810457, 1: 11691.75462962963, 2: 13250.087388041638, 3: 11539.586941721132, 4: 10941.144357298474, 5: 9994.3364197530864, 6: 10022.596683117694, 7: 9652.9458741830058, 8: 9412.4284945802774, 9: 9134.070305010895, 10: 9017.3944795549087, 11: 8878.2415728637134, 12: 8878.8749339314945, 13: 8703.1936107776437, 14: 9176.2817574437177, 15: 9057.5812142565355, 16: 9350.6868813653891, 17: 9207.7120820893524, 18: 9144.7302458071572, 19: 8913.5960375816994}\n"
     ]
    }
   ],
   "source": [
    "print(all_mse)"
   ]
  },
  {
   "cell_type": "code",
   "execution_count": 608,
   "metadata": {},
   "outputs": [
    {
     "name": "stdout",
     "output_type": "stream",
     "text": [
      "dict_items([(0, 19586.898692810457), (1, 11691.75462962963), (2, 13250.087388041638), (3, 11539.586941721132), (4, 10941.144357298474), (5, 9994.3364197530864), (6, 10022.596683117694), (7, 9652.9458741830058), (8, 9412.4284945802774), (9, 9134.070305010895), (10, 9017.3944795549087), (11, 8878.2415728637134), (12, 8878.8749339314945), (13, 8703.1936107776437), (14, 9176.2817574437177), (15, 9057.5812142565355), (16, 9350.6868813653891), (17, 9207.7120820893524), (18, 9144.7302458071572), (19, 8913.5960375816994)])\n"
     ]
    }
   ],
   "source": [
    "print(all_mse.items())"
   ]
  },
  {
   "cell_type": "code",
   "execution_count": 609,
   "metadata": {},
   "outputs": [
    {
     "name": "stdout",
     "output_type": "stream",
     "text": [
      "dict_keys([0, 1, 2, 3, 4, 5, 6, 7, 8, 9, 10, 11, 12, 13, 14, 15, 16, 17, 18, 19])\n"
     ]
    }
   ],
   "source": [
    "print(all_mse.keys())"
   ]
  },
  {
   "cell_type": "markdown",
   "metadata": {},
   "source": [
    "Maximum and minimum values."
   ]
  },
  {
   "cell_type": "code",
   "execution_count": 610,
   "metadata": {},
   "outputs": [
    {
     "data": {
      "text/plain": [
       "19586.898692810457"
      ]
     },
     "execution_count": 610,
     "metadata": {},
     "output_type": "execute_result"
    }
   ],
   "source": [
    "maximum = max(all_mse.values())\n",
    "maximum"
   ]
  },
  {
   "cell_type": "code",
   "execution_count": 611,
   "metadata": {
    "scrolled": true
   },
   "outputs": [
    {
     "data": {
      "text/plain": [
       "8703.1936107776437"
      ]
     },
     "execution_count": 611,
     "metadata": {},
     "output_type": "execute_result"
    }
   ],
   "source": [
    "minimum = min(all_mse.values())\n",
    "minimum"
   ]
  },
  {
   "cell_type": "code",
   "execution_count": 612,
   "metadata": {},
   "outputs": [
    {
     "name": "stdout",
     "output_type": "stream",
     "text": [
      "{0: 19586.898692810457}\n"
     ]
    }
   ],
   "source": [
    "# search dict for maximum v and store the result into a dict\n",
    "two_hyp_mse_222 = dict()\n",
    "\n",
    "for k,v in all_mse.items():\n",
    "    if v == maximum:\n",
    "        two_hyp_mse_222[k] = v\n",
    "        \n",
    "        \n",
    "print(two_hyp_mse_222)"
   ]
  },
  {
   "cell_type": "markdown",
   "metadata": {},
   "source": [
    "Instead of a for loop using a dict comprehension."
   ]
  },
  {
   "cell_type": "code",
   "execution_count": 613,
   "metadata": {},
   "outputs": [
    {
     "data": {
      "text/plain": [
       "{(0, 19586.898692810457)}"
      ]
     },
     "execution_count": 613,
     "metadata": {},
     "output_type": "execute_result"
    }
   ],
   "source": [
    "maximum_k_v = {(k,v) for k,v in all_mse.items() if v == maximum}\n",
    "maximum_k_v"
   ]
  },
  {
   "cell_type": "code",
   "execution_count": 614,
   "metadata": {},
   "outputs": [
    {
     "data": {
      "text/plain": [
       "{(13, 8703.1936107776437)}"
      ]
     },
     "execution_count": 614,
     "metadata": {},
     "output_type": "execute_result"
    }
   ],
   "source": [
    "minimum_k_v = {(k,v) for k,v in all_mse.items() if v == minimum}\n",
    "minimum_k_v"
   ]
  },
  {
   "cell_type": "markdown",
   "metadata": {},
   "source": [
    "Combine all elements into one loop determining the minimum and maximum by k."
   ]
  },
  {
   "cell_type": "code",
   "execution_count": 615,
   "metadata": {},
   "outputs": [],
   "source": [
    "\n",
    "two_hyp_mse_min = dict()\n",
    "two_hyp_mse_max = dict()\n",
    "all_mse_33 ={}\n",
    "  \n",
    "\n",
    "for i,v in enumerate(hyper_params):\n",
    "    \n",
    "    \n",
    "    knn = KNeighborsRegressor(algorithm='brute', n_neighbors=v)\n",
    "    knn.fit(train_set_1_normal[two_features], train_set_1_normal['price'])\n",
    "    predictions = knn.predict(test_set_1_normal[two_features])\n",
    "    mse = mean_squared_error(test_set_1_normal['price'], predictions)\n",
    "    all_mse_33[i] = mse\n",
    "    two_hyp_mse_min = {(k,v) for k,v in all_mse_33.items() if v == min(all_mse_33.values())}\n",
    "    two_hyp_mse_max =  {(k,v) for k,v in all_mse_33.items() if v == max(all_mse_33.values())}\n",
    "   "
   ]
  },
  {
   "cell_type": "code",
   "execution_count": 616,
   "metadata": {},
   "outputs": [
    {
     "data": {
      "text/plain": [
       "{(13, 8703.1936107776437)}"
      ]
     },
     "execution_count": 616,
     "metadata": {},
     "output_type": "execute_result"
    }
   ],
   "source": [
    "two_hyp_mse_min"
   ]
  },
  {
   "cell_type": "code",
   "execution_count": 617,
   "metadata": {},
   "outputs": [
    {
     "data": {
      "text/plain": [
       "{(0, 19586.898692810457)}"
      ]
     },
     "execution_count": 617,
     "metadata": {},
     "output_type": "execute_result"
    }
   ],
   "source": [
    "two_hyp_mse_max"
   ]
  },
  {
   "cell_type": "code",
   "execution_count": 618,
   "metadata": {},
   "outputs": [
    {
     "data": {
      "text/plain": [
       "93.290000000000006"
      ]
     },
     "execution_count": 618,
     "metadata": {},
     "output_type": "execute_result"
    }
   ],
   "source": [
    "rmse_two_454 = round(np.sqrt(list(list(two_hyp_mse_min)[0])[1]),2)\n",
    "rmse_two_454"
   ]
  },
  {
   "cell_type": "markdown",
   "metadata": {},
   "source": [
    "Doing similar with three features."
   ]
  },
  {
   "cell_type": "code",
   "execution_count": 619,
   "metadata": {},
   "outputs": [],
   "source": [
    "three_features = ['accommodates', 'bathrooms', 'bedrooms']\n",
    "\n",
    "three_hyp_mse_min = dict()\n",
    "three_hyp_mse_max = dict()\n",
    "all_mse_555 ={}\n",
    "  "
   ]
  },
  {
   "cell_type": "code",
   "execution_count": 620,
   "metadata": {},
   "outputs": [],
   "source": [
    "for i,v in enumerate(hyper_params):\n",
    "    knn = KNeighborsRegressor(algorithm='brute', n_neighbors=v)\n",
    "    knn.fit(train_set_1_normal[three_features], train_set_1_normal['price'])\n",
    "    predictions = knn.predict(test_set_1_normal[three_features])\n",
    "    mse = mean_squared_error(test_set_1_normal['price'], predictions)\n",
    "    all_mse_555[i] = mse\n",
    "    three_hyp_mse_min = {(k,v) for k,v in all_mse_555.items() if v == min(all_mse_555.values())}\n",
    "    three_hyp_mse_max = {(k,v) for k,v in all_mse_555.items() if v == max(all_mse_555.values())}\n",
    "    "
   ]
  },
  {
   "cell_type": "code",
   "execution_count": 621,
   "metadata": {},
   "outputs": [
    {
     "data": {
      "text/plain": [
       "{(8, 9074.7662390058922)}"
      ]
     },
     "execution_count": 621,
     "metadata": {},
     "output_type": "execute_result"
    }
   ],
   "source": [
    "three_hyp_mse_min"
   ]
  },
  {
   "cell_type": "code",
   "execution_count": 622,
   "metadata": {},
   "outputs": [
    {
     "name": "stdout",
     "output_type": "stream",
     "text": [
      "<class 'set'>\n",
      "<class 'list'>\n",
      "<class 'tuple'>\n",
      "<class 'list'>\n",
      "<class 'int'>\n",
      "RMSE: 95.2616\n"
     ]
    }
   ],
   "source": [
    "print(type(three_hyp_mse_min))\n",
    "g = list(three_hyp_mse_min)\n",
    "t = list(g[0])\n",
    "print(type(g))\n",
    "print(type(g[0]))\n",
    "print(type(t))\n",
    "print(type(t[0]))\n",
    "rmse_min_34534 = np.sqrt(t[1])\n",
    "print(\"RMSE: {}\".format(round(rmse_min_34534,4)))"
   ]
  },
  {
   "cell_type": "code",
   "execution_count": 623,
   "metadata": {},
   "outputs": [
    {
     "data": {
      "text/plain": [
       "{(0, 36681.738562091501)}"
      ]
     },
     "execution_count": 623,
     "metadata": {},
     "output_type": "execute_result"
    }
   ],
   "source": [
    "three_hyp_mse_max"
   ]
  },
  {
   "cell_type": "code",
   "execution_count": 624,
   "metadata": {},
   "outputs": [
    {
     "data": {
      "text/plain": [
       "191.5248"
      ]
     },
     "execution_count": 624,
     "metadata": {},
     "output_type": "execute_result"
    }
   ],
   "source": [
    "rmse_max_34534 = round(np.sqrt(list(list(three_hyp_mse_max)[0])[1]),4)\n",
    "rmse_max_34534 "
   ]
  },
  {
   "cell_type": "markdown",
   "metadata": {},
   "source": [
    "The RMSE of 92.742 Dollar with k = 8 neighbours produced by a model with \n",
    "three_features = ['accommodates', 'bathrooms', 'bedrooms'] is the lowest RMSE (at this point) of the project."
   ]
  },
  {
   "cell_type": "markdown",
   "metadata": {},
   "source": [
    "### Cross Validation"
   ]
  },
  {
   "cell_type": "markdown",
   "metadata": {},
   "source": [
    "Holdout validation techniques with two partitions on a 50/50 split."
   ]
  },
  {
   "cell_type": "code",
   "execution_count": 625,
   "metadata": {},
   "outputs": [
    {
     "data": {
      "text/plain": [
       "RangeIndex(start=0, stop=3723, step=1)"
      ]
     },
     "execution_count": 625,
     "metadata": {},
     "output_type": "execute_result"
    }
   ],
   "source": [
    "# Start over with the data set at point washington_airbnb_1\n",
    "washington_airbnb_7777 = washington_airbnb_1.copy()\n",
    "washington_airbnb_7777.reset_index(inplace=True)\n",
    "washington_airbnb_7777.index"
   ]
  },
  {
   "cell_type": "code",
   "execution_count": 626,
   "metadata": {},
   "outputs": [
    {
     "data": {
      "text/plain": [
       "RangeIndex(start=0, stop=3723, step=1)"
      ]
     },
     "execution_count": 626,
     "metadata": {},
     "output_type": "execute_result"
    }
   ],
   "source": [
    "washington_airbnb_7777_index = washington_airbnb_7777.index\n",
    "washington_airbnb_7777_index"
   ]
  },
  {
   "cell_type": "code",
   "execution_count": 627,
   "metadata": {},
   "outputs": [
    {
     "data": {
      "text/plain": [
       "array([ 694, 2481, 1293, ..., 2660, 1132, 1185], dtype=int64)"
      ]
     },
     "execution_count": 627,
     "metadata": {},
     "output_type": "execute_result"
    }
   ],
   "source": [
    "washington_airbnb_7777_index_permutated = np.random.permutation(washington_airbnb_7777_index)\n",
    "washington_airbnb_7777_index_permutated"
   ]
  },
  {
   "cell_type": "code",
   "execution_count": 628,
   "metadata": {},
   "outputs": [
    {
     "data": {
      "text/plain": [
       "Int64Index([ 694, 2481, 1293, 2645, 2230,  498,  985,   41, 1943,  729,\n",
       "            ...\n",
       "            1950, 3029, 2425, 1253, 2328,  749, 3413, 2660, 1132, 1185],\n",
       "           dtype='int64', length=3723)"
      ]
     },
     "execution_count": 628,
     "metadata": {},
     "output_type": "execute_result"
    }
   ],
   "source": [
    "washington_airbnb_7777 = washington_airbnb_7777.reindex(washington_airbnb_7777_index_permutated)\n",
    "washington_airbnb_7777.index"
   ]
  },
  {
   "cell_type": "code",
   "execution_count": 629,
   "metadata": {},
   "outputs": [
    {
     "data": {
      "text/plain": [
       "1862"
      ]
     },
     "execution_count": 629,
     "metadata": {},
     "output_type": "execute_result"
    }
   ],
   "source": [
    "split_at_1 = int(round( len(washington_airbnb_7777) / 2,0))\n",
    "split_at_1 "
   ]
  },
  {
   "cell_type": "code",
   "execution_count": 630,
   "metadata": {},
   "outputs": [
    {
     "data": {
      "text/plain": [
       "(1862, 20)"
      ]
     },
     "execution_count": 630,
     "metadata": {},
     "output_type": "execute_result"
    }
   ],
   "source": [
    "partition_1 = washington_airbnb_7777.iloc[0:split_at_1, :]\n",
    "partition_1.shape"
   ]
  },
  {
   "cell_type": "code",
   "execution_count": 631,
   "metadata": {},
   "outputs": [
    {
     "data": {
      "text/plain": [
       "(1861, 20)"
      ]
     },
     "execution_count": 631,
     "metadata": {},
     "output_type": "execute_result"
    }
   ],
   "source": [
    "partition_2 = washington_airbnb_7777.iloc[split_at_1: , :]\n",
    "partition_2.shape"
   ]
  },
  {
   "cell_type": "code",
   "execution_count": 632,
   "metadata": {},
   "outputs": [
    {
     "name": "stdout",
     "output_type": "stream",
     "text": [
      "(931, 20)\n",
      "(931, 20)\n"
     ]
    }
   ],
   "source": [
    "training_1 = partition_1.iloc[:int(len(partition_1)/2), :]\n",
    "testing_1 = partition_1.iloc[int(len(partition_1)/2): , :]\n",
    "\n",
    "\n",
    "print(training_1.shape)\n",
    "print(testing_1.shape)\n",
    "\n"
   ]
  },
  {
   "cell_type": "code",
   "execution_count": 633,
   "metadata": {},
   "outputs": [
    {
     "name": "stdout",
     "output_type": "stream",
     "text": [
      "(931, 20)\n",
      "(931, 20)\n"
     ]
    }
   ],
   "source": [
    "training_2 = partition_2.iloc[:931, :]\n",
    "testing_2 = partition_2.iloc[int(len(partition_2)/2): , :]\n",
    "\n",
    "print(training_2.shape)\n",
    "print(testing_2.shape)"
   ]
  },
  {
   "cell_type": "code",
   "execution_count": 634,
   "metadata": {},
   "outputs": [
    {
     "data": {
      "text/plain": [
       "Index(['index', 'host_response_rate', 'host_acceptance_rate',\n",
       "       'host_listings_countlatitude', 'longitude', 'city', 'zipcode', 'state',\n",
       "       'accommodates', 'room_type', 'bedrooms', 'bathrooms', 'beds', 'price',\n",
       "       'cleaning_fee', 'security_deposit', 'minimum_nights', 'maximum_nights',\n",
       "       'number_of_reviews', 'distance'],\n",
       "      dtype='object')"
      ]
     },
     "execution_count": 634,
     "metadata": {},
     "output_type": "execute_result"
    }
   ],
   "source": [
    "training_1.columns"
   ]
  },
  {
   "cell_type": "code",
   "execution_count": 635,
   "metadata": {},
   "outputs": [
    {
     "data": {
      "text/plain": [
       "694     2\n",
       "2481    4\n",
       "1293    2\n",
       "2645    2\n",
       "2230    2\n",
       "Name: accommodates, dtype: int64"
      ]
     },
     "execution_count": 635,
     "metadata": {},
     "output_type": "execute_result"
    }
   ],
   "source": [
    "training_1['accommodates'][0:5]"
   ]
  },
  {
   "cell_type": "code",
   "execution_count": 636,
   "metadata": {},
   "outputs": [
    {
     "name": "stdout",
     "output_type": "stream",
     "text": [
      "(931,)\n",
      "(931, 1)\n"
     ]
    }
   ],
   "source": [
    "print(training_1['accommodates'].shape)\n",
    "print(training_1[['accommodates']].shape)"
   ]
  },
  {
   "cell_type": "code",
   "execution_count": 637,
   "metadata": {},
   "outputs": [
    {
     "name": "stdout",
     "output_type": "stream",
     "text": [
      "131.020399851\n"
     ]
    }
   ],
   "source": [
    "knn = KNeighborsRegressor(algorithm='auto' , n_neighbors=5)\n",
    "knn.fit(training_1[['accommodates']], training_1['price'])\n",
    "predictions = knn.predict(testing_1[['accommodates']])\n",
    "mse_one_223 = mean_squared_error(testing_1['price'] , predictions)\n",
    "rmse_one_223 = np.sqrt(mse_one_223)\n",
    "print(rmse_one_223)"
   ]
  },
  {
   "cell_type": "code",
   "execution_count": 638,
   "metadata": {},
   "outputs": [
    {
     "name": "stdout",
     "output_type": "stream",
     "text": [
      "137.206204355\n"
     ]
    }
   ],
   "source": [
    "knn = KNeighborsRegressor(algorithm='auto' , n_neighbors=5)\n",
    "knn.fit(training_2[['accommodates']], training_2['price'])\n",
    "predictions = knn.predict(testing_2[['accommodates']])\n",
    "mse_two_223 = mean_squared_error(testing_2['price'] , predictions)\n",
    "rmse_two_223 = np.sqrt(mse_two_223)\n",
    "print(rmse_two_223)"
   ]
  },
  {
   "cell_type": "code",
   "execution_count": 639,
   "metadata": {},
   "outputs": [
    {
     "data": {
      "text/plain": [
       "134.11330210307034"
      ]
     },
     "execution_count": 639,
     "metadata": {},
     "output_type": "execute_result"
    }
   ],
   "source": [
    "average_rmse = np.mean([rmse_one_223, rmse_two_223])\n",
    "average_rmse"
   ]
  },
  {
   "cell_type": "markdown",
   "metadata": {},
   "source": [
    "#### Constructing a k-fold cross-validation manually not using sklearn."
   ]
  },
  {
   "cell_type": "code",
   "execution_count": 640,
   "metadata": {},
   "outputs": [
    {
     "data": {
      "text/plain": [
       "Int64Index([ 694, 2481, 1293, 2645, 2230,  498,  985,   41, 1943,  729,\n",
       "            ...\n",
       "            1950, 3029, 2425, 1253, 2328,  749, 3413, 2660, 1132, 1185],\n",
       "           dtype='int64', length=3723)"
      ]
     },
     "execution_count": 640,
     "metadata": {},
     "output_type": "execute_result"
    }
   ],
   "source": [
    "# The index is not sequential but shuffled\n",
    "washington_airbnb_7777.index"
   ]
  },
  {
   "cell_type": "code",
   "execution_count": 641,
   "metadata": {},
   "outputs": [],
   "source": [
    "washington_airbnb_7777['fold'] = 0\n",
    "washington_airbnb_7777.loc[washington_airbnb_7777.index[0:745], 'fold'] = 1\n",
    "washington_airbnb_7777.loc[washington_airbnb_7777.index[745:1490], 'fold'] = 2\n",
    "washington_airbnb_7777.loc[washington_airbnb_7777.index[1490:2234], 'fold'] = 3\n",
    "washington_airbnb_7777.loc[washington_airbnb_7777.index[2234:2978], 'fold'] = 4\n",
    "washington_airbnb_7777.loc[washington_airbnb_7777.index[2978:3723], 'fold'] = 5\n"
   ]
  },
  {
   "cell_type": "code",
   "execution_count": 642,
   "metadata": {},
   "outputs": [
    {
     "data": {
      "text/plain": [
       "5    745\n",
       "1    745\n",
       "2    745\n",
       "3    744\n",
       "4    744\n",
       "Name: fold, dtype: int64"
      ]
     },
     "execution_count": 642,
     "metadata": {},
     "output_type": "execute_result"
    }
   ],
   "source": [
    "washington_airbnb_7777['fold'].value_counts()"
   ]
  },
  {
   "cell_type": "code",
   "execution_count": 643,
   "metadata": {},
   "outputs": [
    {
     "data": {
      "text/plain": [
       "array([1, 2, 3, 4, 5], dtype=int64)"
      ]
     },
     "execution_count": 643,
     "metadata": {},
     "output_type": "execute_result"
    }
   ],
   "source": [
    "washington_airbnb_7777['fold'].unique()"
   ]
  },
  {
   "cell_type": "code",
   "execution_count": 644,
   "metadata": {},
   "outputs": [
    {
     "data": {
      "text/plain": [
       "0"
      ]
     },
     "execution_count": 644,
     "metadata": {},
     "output_type": "execute_result"
    }
   ],
   "source": [
    "washington_airbnb_7777['fold'].isnull().sum()"
   ]
  },
  {
   "cell_type": "code",
   "execution_count": 645,
   "metadata": {},
   "outputs": [
    {
     "name": "stdout",
     "output_type": "stream",
     "text": [
      "      fold\n",
      "694   True\n",
      "2481  True\n",
      "1293  True\n",
      "<class 'pandas.core.frame.DataFrame'>\n"
     ]
    }
   ],
   "source": [
    "washington_airbnb_7777_subset_1 = washington_airbnb_7777[['fold']] == 1\n",
    "print(washington_airbnb_7777_subset_1[0:3])\n",
    "print(type(washington_airbnb_7777_subset_1))\n",
    "# washington_airbnb_7777_subset_1.shape\n"
   ]
  },
  {
   "cell_type": "code",
   "execution_count": 646,
   "metadata": {},
   "outputs": [
    {
     "data": {
      "text/plain": [
       "694     2\n",
       "2481    4\n",
       "1293    2\n",
       "2645    2\n",
       "2230    2\n",
       "Name: accommodates, dtype: int64"
      ]
     },
     "execution_count": 646,
     "metadata": {},
     "output_type": "execute_result"
    }
   ],
   "source": [
    "washington_airbnb_7777_subset_1 = washington_airbnb_7777.loc[washington_airbnb_7777['fold'] == 1, 'accommodates']\n",
    "washington_airbnb_7777_subset_1[0:5]"
   ]
  },
  {
   "cell_type": "markdown",
   "metadata": {},
   "source": [
    "Constructing test set."
   ]
  },
  {
   "cell_type": "code",
   "execution_count": 647,
   "metadata": {},
   "outputs": [
    {
     "name": "stdout",
     "output_type": "stream",
     "text": [
      "745\n",
      "745\n"
     ]
    }
   ],
   "source": [
    "washington_airbnb_7777_subset_2_test = washington_airbnb_7777.loc[washington_airbnb_7777['fold'] == 1, :]\n",
    "test_model_accom = washington_airbnb_7777_subset_2_test[['accommodates']]\n",
    "test_label_price = washington_airbnb_7777_subset_2_test['price']\n",
    "print(len(test_model_accom))\n",
    "print(len(test_label_price))"
   ]
  },
  {
   "cell_type": "markdown",
   "metadata": {},
   "source": [
    "Constructing training set."
   ]
  },
  {
   "cell_type": "code",
   "execution_count": 648,
   "metadata": {},
   "outputs": [
    {
     "name": "stdout",
     "output_type": "stream",
     "text": [
      "2978\n",
      "2978\n"
     ]
    }
   ],
   "source": [
    "sequence = np.arange(2,6,1)\n",
    "washington_airbnb_7777_subset_2_train = washington_airbnb_7777.loc[washington_airbnb_7777['fold'].isin(sequence), :]\n",
    "# washington_airbnb_7777_subset_2_train\n",
    "train_model_accom = washington_airbnb_7777_subset_2_train[['accommodates']]\n",
    "train_label_price = washington_airbnb_7777_subset_2_train['price']\n",
    "print(len(train_model_accom))\n",
    "print(len(train_label_price))"
   ]
  },
  {
   "cell_type": "code",
   "execution_count": 649,
   "metadata": {},
   "outputs": [
    {
     "data": {
      "text/plain": [
       "array([2, 3, 4, 5])"
      ]
     },
     "execution_count": 649,
     "metadata": {},
     "output_type": "execute_result"
    }
   ],
   "source": [
    "sequence"
   ]
  },
  {
   "cell_type": "code",
   "execution_count": 650,
   "metadata": {},
   "outputs": [],
   "source": [
    "rmse_343434 = dict()\n",
    "\n",
    "sequence = np.arange(2,6,1)\n",
    "for n,i in enumerate(sequence):\n",
    "    knn = KNeighborsRegressor(algorithm='auto', n_neighbors=i)\n",
    "    knn.fit(train_model_accom, train_label_price)\n",
    "    predictions = knn.predict(test_model_accom)\n",
    "    mse = mean_squared_error(test_label_price, predictions)\n",
    "    rmse = np.sqrt(mse)\n",
    "    n=n+2\n",
    "    rmse_343434[n] = rmse"
   ]
  },
  {
   "cell_type": "code",
   "execution_count": 651,
   "metadata": {},
   "outputs": [
    {
     "data": {
      "text/plain": [
       "{2: 141.74736601366561,\n",
       " 3: 130.97458298091507,\n",
       " 4: 130.24645810536765,\n",
       " 5: 130.593917450882}"
      ]
     },
     "execution_count": 651,
     "metadata": {},
     "output_type": "execute_result"
    }
   ],
   "source": [
    "rmse_343434"
   ]
  },
  {
   "cell_type": "code",
   "execution_count": 652,
   "metadata": {},
   "outputs": [
    {
     "data": {
      "text/html": [
       "<div>\n",
       "<style>\n",
       "    .dataframe thead tr:only-child th {\n",
       "        text-align: right;\n",
       "    }\n",
       "\n",
       "    .dataframe thead th {\n",
       "        text-align: left;\n",
       "    }\n",
       "\n",
       "    .dataframe tbody tr th {\n",
       "        vertical-align: top;\n",
       "    }\n",
       "</style>\n",
       "<table border=\"1\" class=\"dataframe\">\n",
       "  <thead>\n",
       "    <tr style=\"text-align: right;\">\n",
       "      <th></th>\n",
       "      <th>RMSE</th>\n",
       "    </tr>\n",
       "  </thead>\n",
       "  <tbody>\n",
       "    <tr>\n",
       "      <th>4</th>\n",
       "      <td>130.246458</td>\n",
       "    </tr>\n",
       "    <tr>\n",
       "      <th>5</th>\n",
       "      <td>130.593917</td>\n",
       "    </tr>\n",
       "    <tr>\n",
       "      <th>3</th>\n",
       "      <td>130.974583</td>\n",
       "    </tr>\n",
       "    <tr>\n",
       "      <th>2</th>\n",
       "      <td>141.747366</td>\n",
       "    </tr>\n",
       "  </tbody>\n",
       "</table>\n",
       "</div>"
      ],
      "text/plain": [
       "         RMSE\n",
       "4  130.246458\n",
       "5  130.593917\n",
       "3  130.974583\n",
       "2  141.747366"
      ]
     },
     "execution_count": 652,
     "metadata": {},
     "output_type": "execute_result"
    }
   ],
   "source": [
    "dict_rmse_1 = pd.DataFrame.from_dict(rmse_343434, orient='index')\n",
    "dict_rmse_1.rename(columns={0:'RMSE'}, inplace=True)\n",
    "dict_rmse_1.sort_values(by=\"RMSE\")"
   ]
  },
  {
   "cell_type": "code",
   "execution_count": 653,
   "metadata": {},
   "outputs": [
    {
     "data": {
      "text/plain": [
       "133.39058113770758"
      ]
     },
     "execution_count": 653,
     "metadata": {},
     "output_type": "execute_result"
    }
   ],
   "source": [
    "average_rms_222 = dict_rmse_1['RMSE'].mean()\n",
    "average_rms_222"
   ]
  },
  {
   "cell_type": "markdown",
   "metadata": {},
   "source": [
    "K-fold cross validation using sklearn."
   ]
  },
  {
   "cell_type": "code",
   "execution_count": 654,
   "metadata": {},
   "outputs": [
    {
     "name": "stdout",
     "output_type": "stream",
     "text": [
      "RangeIndex(start=0, stop=3723, step=1)\n",
      "Index(['index', 'host_response_rate', 'host_acceptance_rate',\n",
      "       'host_listings_countlatitude', 'longitude', 'city', 'zipcode', 'state',\n",
      "       'accommodates', 'room_type', 'bedrooms', 'bathrooms', 'beds', 'price',\n",
      "       'cleaning_fee', 'security_deposit', 'minimum_nights', 'maximum_nights',\n",
      "       'number_of_reviews', 'distance'],\n",
      "      dtype='object')\n"
     ]
    }
   ],
   "source": [
    "wsair12 = washington_airbnb_1.copy()\n",
    "wsair12.reset_index(inplace=True)\n",
    "print(wsair12.index)\n",
    "print(wsair12.columns)"
   ]
  },
  {
   "cell_type": "code",
   "execution_count": 655,
   "metadata": {},
   "outputs": [],
   "source": [
    "# wsair12.isnull().sum()\n",
    "wsair12 = wsair12.dropna(axis=0, subset=[['bedrooms', 'bathrooms', 'beds']])\n",
    "# wsair12.isnull().sum()"
   ]
  },
  {
   "cell_type": "code",
   "execution_count": 656,
   "metadata": {},
   "outputs": [],
   "source": [
    "from sklearn.model_selection import cross_val_score, KFold\n",
    "# preparing the cross_val_score object\n",
    "kf_12 = KFold(n_splits=5, shuffle=True, random_state=1)\n",
    "# Using the standard KNeighborsRegressor() without changes\n",
    "knn_12 = KNeighborsRegressor()\n",
    "# using the prepared variables in the cross_val_score object\n",
    "mses_12 = cross_val_score(knn_12, X=wsair12[['accommodates']], \n",
    "                          y=wsair12['price'], cv=kf_12, scoring=\"neg_mean_squared_error\")\n",
    "# Scoring parameters: https://scikit-learn.org/stable/modules/model_evaluation.html#scoring-parameter\n",
    "rmses_12 = np.sqrt(np.absolute(mses_12))\n",
    "average_rmse_12 = rmses_12.mean()"
   ]
  },
  {
   "cell_type": "code",
   "execution_count": 657,
   "metadata": {},
   "outputs": [
    {
     "name": "stdout",
     "output_type": "stream",
     "text": [
      "KFold(n_splits=5, random_state=1, shuffle=True)\n",
      "KNeighborsRegressor(algorithm='auto', leaf_size=30, metric='minkowski',\n",
      "          metric_params=None, n_jobs=1, n_neighbors=5, p=2,\n",
      "          weights='uniform')\n"
     ]
    }
   ],
   "source": [
    "print(kf_12)\n",
    "print(knn_12)"
   ]
  },
  {
   "cell_type": "code",
   "execution_count": 658,
   "metadata": {},
   "outputs": [
    {
     "name": "stdout",
     "output_type": "stream",
     "text": [
      "[-13378.32255782 -23623.65754768  -9701.96179837 -13518.05160763\n",
      " -21006.80790191]\n",
      "[ 115.66469884  153.69989443   98.49853704  116.26715619  144.93725505]\n"
     ]
    }
   ],
   "source": [
    "print(mses_12)\n",
    "print(rmses_12 )"
   ]
  },
  {
   "cell_type": "code",
   "execution_count": 659,
   "metadata": {},
   "outputs": [
    {
     "name": "stdout",
     "output_type": "stream",
     "text": [
      "125.813508309\n"
     ]
    }
   ],
   "source": [
    "print(average_rmse_12)"
   ]
  },
  {
   "cell_type": "markdown",
   "metadata": {},
   "source": [
    "Using cross_val_score with models of different number of features."
   ]
  },
  {
   "cell_type": "code",
   "execution_count": 660,
   "metadata": {},
   "outputs": [
    {
     "name": "stdout",
     "output_type": "stream",
     "text": [
      "['accommodates', 'bathrooms', 'bedrooms']\n"
     ]
    }
   ],
   "source": [
    "print(three_features)"
   ]
  },
  {
   "cell_type": "code",
   "execution_count": 661,
   "metadata": {},
   "outputs": [],
   "source": [
    "# preparing the cross_val_score object\n",
    "kf_177 = KFold(n_splits=5, shuffle=True, random_state=1)\n",
    "# Using the standard KNeighborsRegressor() without changes\n",
    "knn_177 = KNeighborsRegressor()\n",
    "# using the prepared variables in the cross_val_score object\n",
    "mses_177 = cross_val_score(knn_177, X=wsair12[three_features], \n",
    "                          y=wsair12['price'], cv=kf_177, scoring=\"neg_mean_squared_error\")\n",
    "# Scoring parameters: https://scikit-learn.org/stable/modules/model_evaluation.html#scoring-parameter\n",
    "rmses_177 = np.sqrt(np.absolute(mses_177))\n",
    "average_rmse_177 = rmses_177.mean()"
   ]
  },
  {
   "cell_type": "code",
   "execution_count": 662,
   "metadata": {},
   "outputs": [
    {
     "name": "stdout",
     "output_type": "stream",
     "text": [
      "[-11987.24201361 -19362.96599455  -9305.58174387 -12535.70959128\n",
      " -19205.72174387]\n",
      "[ 109.48626404  139.15087493   96.46544326  111.96298313  138.58470963]\n"
     ]
    }
   ],
   "source": [
    "print(mses_177)\n",
    "print(rmses_177)"
   ]
  },
  {
   "cell_type": "code",
   "execution_count": 663,
   "metadata": {},
   "outputs": [
    {
     "name": "stdout",
     "output_type": "stream",
     "text": [
      "119.130055\n"
     ]
    }
   ],
   "source": [
    "print(average_rmse_177)"
   ]
  },
  {
   "cell_type": "code",
   "execution_count": 664,
   "metadata": {},
   "outputs": [
    {
     "data": {
      "text/plain": [
       "['accommodates',\n",
       " 'bedrooms',\n",
       " 'bathrooms',\n",
       " 'beds',\n",
       " 'minimum_nights',\n",
       " 'maximum_nights',\n",
       " 'number_of_reviews']"
      ]
     },
     "execution_count": 664,
     "metadata": {},
     "output_type": "execute_result"
    }
   ],
   "source": [
    "features_all\n",
    "# wsair12[features_all].isnull().sum()"
   ]
  },
  {
   "cell_type": "code",
   "execution_count": 665,
   "metadata": {},
   "outputs": [],
   "source": [
    "# preparing the cross_val_score object\n",
    "kf_699 = KFold(n_splits=5, shuffle=True, random_state=1)\n",
    "# Using the standard KNeighborsRegressor() without changes\n",
    "knn_699 = KNeighborsRegressor()\n",
    "# using the prepared variables in the cross_val_score object\n",
    "mses_699 = cross_val_score(knn_699, X=wsair12[features_all], \n",
    "                          y=wsair12['price'], cv=kf_699, scoring=\"neg_mean_squared_error\")\n",
    "# Scoring parameters: https://scikit-learn.org/stable/modules/model_evaluation.html#scoring-parameter\n",
    "rmses_699 = np.sqrt(np.absolute(mses_699))\n",
    "average_rmse_699 = rmses_699.mean()"
   ]
  },
  {
   "cell_type": "code",
   "execution_count": 666,
   "metadata": {},
   "outputs": [
    {
     "name": "stdout",
     "output_type": "stream",
     "text": [
      "[-11868.01371429 -19811.22049046  -8626.44234332 -11198.20435967\n",
      " -14736.02741144]\n",
      "[ 108.9404136   140.75233742   92.8786431   105.8215685   121.39204015]\n"
     ]
    }
   ],
   "source": [
    "print(mses_699)\n",
    "print(rmses_699)"
   ]
  },
  {
   "cell_type": "code",
   "execution_count": 667,
   "metadata": {},
   "outputs": [
    {
     "name": "stdout",
     "output_type": "stream",
     "text": [
      "113.957000553\n"
     ]
    }
   ],
   "source": [
    "print(average_rmse_699)"
   ]
  },
  {
   "cell_type": "markdown",
   "metadata": {},
   "source": [
    "The model with all features produces the best average RMSE with 111.280611614 Dollar by  n_neighbors=5 and n_splits=5."
   ]
  },
  {
   "cell_type": "code",
   "execution_count": 668,
   "metadata": {},
   "outputs": [
    {
     "name": "stdout",
     "output_type": "stream",
     "text": [
      "3 folds 113.64164693\n",
      "5 folds 113.957000553\n",
      "7 folds 112.501835261\n",
      "9 folds 112.50633273\n",
      "10 folds 113.491916769\n",
      "11 folds 111.758834879\n",
      "13 folds 111.220070751\n",
      "15 folds 111.721805567\n",
      "17 folds 110.061575957\n",
      "19 folds 110.508036324\n",
      "21 folds 109.254438911\n",
      "22 folds 109.966628545\n",
      "23 folds 109.712577816\n",
      "24 folds 108.674152685\n",
      "25 folds 108.836109733\n",
      "26 folds 109.355586895\n",
      "27 folds 109.856626235\n",
      "28 folds 109.163569967\n",
      "29 folds 108.570486734\n",
      "30 folds 108.460132605\n"
     ]
    }
   ],
   "source": [
    "alternative_folds = [3, 5, 7, 9, 10, 11, 13, 15, 17, 19, 21, 22, 23, 24, 25, 26, 27, 28, 29, 30]\n",
    "average_rmse_alternative = {}\n",
    "std_rmse_alternative = {}\n",
    "\n",
    "for i in alternative_folds:\n",
    "    \n",
    "    kf_alternatives = KFold(n_splits=i, shuffle=True, random_state=1)\n",
    "    # Using the standard KNeighborsRegressor() without changes\n",
    "    knn_alternatives = KNeighborsRegressor()\n",
    "    # using the prepared variables in the cross_val_score object\n",
    "    mses_alternatives = cross_val_score(knn_alternatives, X=wsair12[features_all], \n",
    "                              y=wsair12['price'], cv=kf_alternatives, scoring=\"neg_mean_squared_error\")\n",
    "    # Scoring parameters: https://scikit-learn.org/stable/modules/model_evaluation.html#scoring-parameter\n",
    "    rmses_alternatives = np.sqrt(np.absolute(mses_alternatives))\n",
    "    average_rmse_alternatives = rmses_alternatives.mean()\n",
    "    average_rmse_alternative[i] = average_rmse_alternatives\n",
    "    std_rmse = rmses_alternatives.std()\n",
    "    std_rmse_alternative[i] = std_rmse\n",
    "    print(str(i), \"folds\", average_rmse_alternatives)\n",
    "   \n"
   ]
  },
  {
   "cell_type": "code",
   "execution_count": 669,
   "metadata": {},
   "outputs": [
    {
     "name": "stdout",
     "output_type": "stream",
     "text": [
      "{3: 113.64164692979374, 5: 113.95700055270677, 7: 112.50183526077561, 9: 112.50633272966267, 10: 113.49191676935088, 11: 111.75883487877645, 13: 111.2200707511694, 15: 111.72180556680743, 17: 110.06157595669031, 19: 110.5080363243723, 21: 109.25443891063047, 22: 109.96662854510897, 23: 109.71257781647152, 24: 108.67415268454424, 25: 108.83610973261413, 26: 109.35558689542765, 27: 109.8566262349476, 28: 109.16356996735145, 29: 108.5704867338663, 30: 108.46013260548429}\n"
     ]
    }
   ],
   "source": [
    "print(average_rmse_alternative)"
   ]
  },
  {
   "cell_type": "code",
   "execution_count": 670,
   "metadata": {},
   "outputs": [
    {
     "name": "stdout",
     "output_type": "stream",
     "text": [
      "{3: 13.30645741113619, 5: 16.179730803337133, 7: 18.966537434743692, 9: 20.062890171499845, 10: 19.751322377801714, 11: 21.347129959739892, 13: 25.191989809433643, 15: 23.24182103788349, 17: 28.131667342789083, 19: 27.242886776211936, 21: 31.886837064520339, 22: 31.112280356266151, 23: 30.465437670633555, 24: 32.869967944432169, 25: 32.98467559862052, 26: 33.696050945384435, 27: 33.383898069685443, 28: 32.710330082781773, 29: 36.217373045519857, 30: 36.322651524364879}\n"
     ]
    }
   ],
   "source": [
    "print(std_rmse_alternative)"
   ]
  },
  {
   "cell_type": "code",
   "execution_count": 671,
   "metadata": {},
   "outputs": [],
   "source": [
    "average_rmse_alternative_df = pd.DataFrame.from_dict(average_rmse_alternative, orient='index')\n",
    "average_rmse_alternative_df['Folds'] = average_rmse_alternative_df.index\n",
    "average_rmse_alternative_df.rename(columns={0:\"Mean_RMSE\"}, inplace=True)\n",
    "average_rmse_alternative_df_2=average_rmse_alternative_df.sort_values(by=\"Mean_RMSE\", ascending=False)"
   ]
  },
  {
   "cell_type": "code",
   "execution_count": 672,
   "metadata": {},
   "outputs": [],
   "source": [
    "# average_rmse_alternative_df_2"
   ]
  },
  {
   "cell_type": "code",
   "execution_count": 673,
   "metadata": {},
   "outputs": [],
   "source": [
    "std_rmse_alternative_df = pd.DataFrame.from_dict(std_rmse_alternative, orient='index')\n",
    "std_rmse_alternative_df['Folds'] = std_rmse_alternative_df.index\n",
    "std_rmse_alternative_df.rename(columns={0:\"STD\"}, inplace=True)\n",
    "std_rmse_alternative_df_2=std_rmse_alternative_df.sort_values(by=\"STD\", ascending=False)\n",
    "# std_rmse_alternative_df_2"
   ]
  },
  {
   "cell_type": "code",
   "execution_count": 674,
   "metadata": {},
   "outputs": [
    {
     "data": {
      "text/html": [
       "<div>\n",
       "<style>\n",
       "    .dataframe thead tr:only-child th {\n",
       "        text-align: right;\n",
       "    }\n",
       "\n",
       "    .dataframe thead th {\n",
       "        text-align: left;\n",
       "    }\n",
       "\n",
       "    .dataframe tbody tr th {\n",
       "        vertical-align: top;\n",
       "    }\n",
       "</style>\n",
       "<table border=\"1\" class=\"dataframe\">\n",
       "  <thead>\n",
       "    <tr style=\"text-align: right;\">\n",
       "      <th></th>\n",
       "      <th>Mean_RMSE</th>\n",
       "      <th>Folds</th>\n",
       "      <th>STD</th>\n",
       "    </tr>\n",
       "  </thead>\n",
       "  <tbody>\n",
       "    <tr>\n",
       "      <th>19</th>\n",
       "      <td>108.460133</td>\n",
       "      <td>30</td>\n",
       "      <td>36.322652</td>\n",
       "    </tr>\n",
       "    <tr>\n",
       "      <th>18</th>\n",
       "      <td>108.570487</td>\n",
       "      <td>29</td>\n",
       "      <td>36.217373</td>\n",
       "    </tr>\n",
       "    <tr>\n",
       "      <th>17</th>\n",
       "      <td>108.674153</td>\n",
       "      <td>24</td>\n",
       "      <td>32.869968</td>\n",
       "    </tr>\n",
       "    <tr>\n",
       "      <th>16</th>\n",
       "      <td>108.836110</td>\n",
       "      <td>25</td>\n",
       "      <td>32.984676</td>\n",
       "    </tr>\n",
       "    <tr>\n",
       "      <th>15</th>\n",
       "      <td>109.163570</td>\n",
       "      <td>28</td>\n",
       "      <td>32.710330</td>\n",
       "    </tr>\n",
       "    <tr>\n",
       "      <th>14</th>\n",
       "      <td>109.254439</td>\n",
       "      <td>21</td>\n",
       "      <td>31.886837</td>\n",
       "    </tr>\n",
       "    <tr>\n",
       "      <th>13</th>\n",
       "      <td>109.355587</td>\n",
       "      <td>26</td>\n",
       "      <td>33.696051</td>\n",
       "    </tr>\n",
       "    <tr>\n",
       "      <th>12</th>\n",
       "      <td>109.712578</td>\n",
       "      <td>23</td>\n",
       "      <td>30.465438</td>\n",
       "    </tr>\n",
       "    <tr>\n",
       "      <th>11</th>\n",
       "      <td>109.856626</td>\n",
       "      <td>27</td>\n",
       "      <td>33.383898</td>\n",
       "    </tr>\n",
       "    <tr>\n",
       "      <th>10</th>\n",
       "      <td>109.966629</td>\n",
       "      <td>22</td>\n",
       "      <td>31.112280</td>\n",
       "    </tr>\n",
       "    <tr>\n",
       "      <th>9</th>\n",
       "      <td>110.061576</td>\n",
       "      <td>17</td>\n",
       "      <td>28.131667</td>\n",
       "    </tr>\n",
       "    <tr>\n",
       "      <th>8</th>\n",
       "      <td>110.508036</td>\n",
       "      <td>19</td>\n",
       "      <td>27.242887</td>\n",
       "    </tr>\n",
       "    <tr>\n",
       "      <th>7</th>\n",
       "      <td>111.220071</td>\n",
       "      <td>13</td>\n",
       "      <td>25.191990</td>\n",
       "    </tr>\n",
       "    <tr>\n",
       "      <th>6</th>\n",
       "      <td>111.721806</td>\n",
       "      <td>15</td>\n",
       "      <td>23.241821</td>\n",
       "    </tr>\n",
       "    <tr>\n",
       "      <th>5</th>\n",
       "      <td>111.758835</td>\n",
       "      <td>11</td>\n",
       "      <td>21.347130</td>\n",
       "    </tr>\n",
       "    <tr>\n",
       "      <th>4</th>\n",
       "      <td>112.501835</td>\n",
       "      <td>7</td>\n",
       "      <td>18.966537</td>\n",
       "    </tr>\n",
       "    <tr>\n",
       "      <th>3</th>\n",
       "      <td>112.506333</td>\n",
       "      <td>9</td>\n",
       "      <td>20.062890</td>\n",
       "    </tr>\n",
       "    <tr>\n",
       "      <th>2</th>\n",
       "      <td>113.491917</td>\n",
       "      <td>10</td>\n",
       "      <td>19.751322</td>\n",
       "    </tr>\n",
       "    <tr>\n",
       "      <th>1</th>\n",
       "      <td>113.641647</td>\n",
       "      <td>3</td>\n",
       "      <td>13.306457</td>\n",
       "    </tr>\n",
       "    <tr>\n",
       "      <th>0</th>\n",
       "      <td>113.957001</td>\n",
       "      <td>5</td>\n",
       "      <td>16.179731</td>\n",
       "    </tr>\n",
       "  </tbody>\n",
       "</table>\n",
       "</div>"
      ],
      "text/plain": [
       "     Mean_RMSE  Folds        STD\n",
       "19  108.460133     30  36.322652\n",
       "18  108.570487     29  36.217373\n",
       "17  108.674153     24  32.869968\n",
       "16  108.836110     25  32.984676\n",
       "15  109.163570     28  32.710330\n",
       "14  109.254439     21  31.886837\n",
       "13  109.355587     26  33.696051\n",
       "12  109.712578     23  30.465438\n",
       "11  109.856626     27  33.383898\n",
       "10  109.966629     22  31.112280\n",
       "9   110.061576     17  28.131667\n",
       "8   110.508036     19  27.242887\n",
       "7   111.220071     13  25.191990\n",
       "6   111.721806     15  23.241821\n",
       "5   111.758835     11  21.347130\n",
       "4   112.501835      7  18.966537\n",
       "3   112.506333      9  20.062890\n",
       "2   113.491917     10  19.751322\n",
       "1   113.641647      3  13.306457\n",
       "0   113.957001      5  16.179731"
      ]
     },
     "execution_count": 674,
     "metadata": {},
     "output_type": "execute_result"
    }
   ],
   "source": [
    "av_std_merged_2 = average_rmse_alternative_df_2.merge(right=std_rmse_alternative_df_2, on=\"Folds\").sort_values(by=\"Mean_RMSE\")\n",
    "av_std_merged_2"
   ]
  },
  {
   "cell_type": "code",
   "execution_count": 675,
   "metadata": {},
   "outputs": [
    {
     "name": "stdout",
     "output_type": "stream",
     "text": [
      "13.3064574111\n",
      "108.460132605\n"
     ]
    }
   ],
   "source": [
    "min_std_2 = av_std_merged_2['STD'].min()\n",
    "min_av_2 = av_std_merged_2['Mean_RMSE'].min()\n",
    "print(min_std_2) \n",
    "print(min_av_2)"
   ]
  },
  {
   "cell_type": "code",
   "execution_count": 676,
   "metadata": {},
   "outputs": [
    {
     "data": {
      "image/png": "[encoded data removed]",
      "text/plain": [
       "<Figure size 1080x216 with 1 Axes>"
      ]
     },
     "metadata": {},
     "output_type": "display_data"
    },
    {
     "data": {
      "image/png": "[encoded data removed]",
      "text/plain": [
       "<Figure size 1080x216 with 1 Axes>"
      ]
     },
     "metadata": {},
     "output_type": "display_data"
    }
   ],
   "source": [
    "ax1=av_std_merged_2.plot.scatter(x=\"Folds\", y=\"Mean_RMSE\" , c=\"red\")\n",
    "ax2=av_std_merged_2.plot.scatter(x=\"Folds\", y=\"STD\" , c=\"blue\")"
   ]
  },
  {
   "cell_type": "markdown",
   "metadata": {},
   "source": [
    "A number of 25 folds generates the lowest RMSE with 107.167127 Dollar based on a model with all features and a knn = 5, while the standard deviation increases with the number of folds added. The number of folds with the \n",
    "lowest standard deviation of 10.5457234754 is 5. "
   ]
  }
 ],
 "metadata": {
  "kernelspec": {
   "display_name": "Python 3",
   "language": "python",
   "name": "python3"
  },
  "language_info": {
   "codemirror_mode": {
    "name": "ipython",
    "version": 3
   },
   "file_extension": ".py",
   "mimetype": "text/x-python",
   "name": "python",
   "nbconvert_exporter": "python",
   "pygments_lexer": "ipython3",
   "version": "3.6.8"
  }
 },
 "nbformat": 4,
 "nbformat_minor": 2
}
